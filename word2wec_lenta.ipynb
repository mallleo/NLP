{
 "cells": [
  {
   "cell_type": "code",
   "execution_count": 1,
   "id": "initial_id",
   "metadata": {
    "collapsed": true,
    "ExecuteTime": {
     "end_time": "2024-03-20T16:07:48.204135Z",
     "start_time": "2024-03-20T16:07:47.205483Z"
    }
   },
   "outputs": [],
   "source": [
    "import pandas as pd\n",
    "import fasttext\n",
    "import pymorphy3\n",
    "from multiprocessing import Pool\n",
    "import numpy as np\n",
    "from sklearn.model_selection import train_test_split\n",
    "from tqdm import tqdm_notebook as tqdm\n",
    "import re"
   ]
  },
  {
   "cell_type": "code",
   "outputs": [
    {
     "data": {
      "text/plain": "                                               title  \\\n0         Телеканалы станут вещать по единому тарифу   \n1          Volkswagen выкупает остатки акций \"Шкоды\"   \n2           Прибыль Тюменнефтегаза возросла в 10 раз   \n3  Крупнейшее в истории слияние компаний происход...   \n4            ГАЗ получил четверть обещанного кредита   \n\n                                                text      topic  \n0  С 1 января 2000 года все телеканалы будут опла...  Экономика  \n1  Германский автопромышленный концерн Volkswagen...  Экономика  \n2  Нераспределенная прибыль ОАО \"Тюменнефтегаз\", ...  Экономика  \n3  Две крупнейших телекоммуникационных компании С...  Экономика  \n4  ОАО \"ГАЗ\" и Нижегородский банк Сбербанка Росси...  Экономика  ",
      "text/html": "<div>\n<style scoped>\n    .dataframe tbody tr th:only-of-type {\n        vertical-align: middle;\n    }\n\n    .dataframe tbody tr th {\n        vertical-align: top;\n    }\n\n    .dataframe thead th {\n        text-align: right;\n    }\n</style>\n<table border=\"1\" class=\"dataframe\">\n  <thead>\n    <tr style=\"text-align: right;\">\n      <th></th>\n      <th>title</th>\n      <th>text</th>\n      <th>topic</th>\n    </tr>\n  </thead>\n  <tbody>\n    <tr>\n      <th>0</th>\n      <td>Телеканалы станут вещать по единому тарифу</td>\n      <td>С 1 января 2000 года все телеканалы будут опла...</td>\n      <td>Экономика</td>\n    </tr>\n    <tr>\n      <th>1</th>\n      <td>Volkswagen выкупает остатки акций \"Шкоды\"</td>\n      <td>Германский автопромышленный концерн Volkswagen...</td>\n      <td>Экономика</td>\n    </tr>\n    <tr>\n      <th>2</th>\n      <td>Прибыль Тюменнефтегаза возросла в 10 раз</td>\n      <td>Нераспределенная прибыль ОАО \"Тюменнефтегаз\", ...</td>\n      <td>Экономика</td>\n    </tr>\n    <tr>\n      <th>3</th>\n      <td>Крупнейшее в истории слияние компаний происход...</td>\n      <td>Две крупнейших телекоммуникационных компании С...</td>\n      <td>Экономика</td>\n    </tr>\n    <tr>\n      <th>4</th>\n      <td>ГАЗ получил четверть обещанного кредита</td>\n      <td>ОАО \"ГАЗ\" и Нижегородский банк Сбербанка Росси...</td>\n      <td>Экономика</td>\n    </tr>\n  </tbody>\n</table>\n</div>"
     },
     "execution_count": 2,
     "metadata": {},
     "output_type": "execute_result"
    }
   ],
   "source": [
    "lenta = pd.read_csv('lenta-ru-news-part.csv', usecols=['title', 'text', 'topic'])\n",
    "lenta.head()"
   ],
   "metadata": {
    "collapsed": false,
    "ExecuteTime": {
     "end_time": "2024-03-20T16:08:03.578944Z",
     "start_time": "2024-03-20T16:07:53.725145Z"
    }
   },
   "id": "bfd0ef46d7a0a88c",
   "execution_count": 2
  },
  {
   "cell_type": "code",
   "outputs": [
    {
     "data": {
      "text/plain": "(258273, 3)"
     },
     "execution_count": 3,
     "metadata": {},
     "output_type": "execute_result"
    }
   ],
   "source": [
    "lenta.shape"
   ],
   "metadata": {
    "collapsed": false,
    "ExecuteTime": {
     "end_time": "2024-03-20T16:08:14.981916Z",
     "start_time": "2024-03-20T16:08:14.974620Z"
    }
   },
   "id": "fd4dd614d46ab45c",
   "execution_count": 3
  },
  {
   "cell_type": "code",
   "outputs": [
    {
     "data": {
      "text/plain": "topic\nЭкономика          79528\nСпорт              64413\nКультура           53797\nНаука и техника    53136\nБизнес              7399\nName: count, dtype: int64"
     },
     "execution_count": 4,
     "metadata": {},
     "output_type": "execute_result"
    }
   ],
   "source": [
    "lenta.topic.value_counts() # таргет задачи"
   ],
   "metadata": {
    "collapsed": false,
    "ExecuteTime": {
     "end_time": "2024-03-20T16:08:16.616105Z",
     "start_time": "2024-03-20T16:08:16.572782Z"
    }
   },
   "id": "3384df40244b8008",
   "execution_count": 4
  },
  {
   "cell_type": "code",
   "outputs": [
    {
     "data": {
      "text/plain": "0                телеканалы станут вещать по единому тарифу\n1                 volkswagen выкупает остатки акций \"шкоды\"\n2                  прибыль тюменнефтегаза возросла в 10 раз\n3         крупнейшее в истории слияние компаний происход...\n4                   газ получил четверть обещанного кредита\n                                ...                        \n258268    российский боец ufc включен в книгу рекордов г...\n258269    бывший чемпион ufc не выдержал кровопролития и...\n258270               моуринью сравнил футболистов с мебелью\n258271          путин предостерег от запретов рэп-концертов\n258272    падение горнолыжника на полной скорости попало...\nName: title, Length: 258273, dtype: object"
     },
     "execution_count": 16,
     "metadata": {},
     "output_type": "execute_result"
    }
   ],
   "source": [
    "lenta['title'].str.lower()"
   ],
   "metadata": {
    "collapsed": false,
    "ExecuteTime": {
     "end_time": "2024-03-20T16:16:44.538209Z",
     "start_time": "2024-03-20T16:16:44.275777Z"
    }
   },
   "id": "5d432b896e170a4a",
   "execution_count": 16
  },
  {
   "cell_type": "code",
   "outputs": [],
   "source": [
    "m = pymorphy3.MorphAnalyzer()\n",
    "\n",
    "regex = re.compile(\"[А-Яа-я:=!\\)\\()A-z\\_\\%/|]+\")\n",
    "\n",
    "def words_only(text, regex=regex):\n",
    "    try:\n",
    "        return regex.findall(text)\n",
    "    except:\n",
    "        return []"
   ],
   "metadata": {
    "collapsed": false,
    "ExecuteTime": {
     "end_time": "2024-03-20T16:27:01.350810Z",
     "start_time": "2024-03-20T16:27:01.228261Z"
    }
   },
   "id": "43110cda56b37313",
   "execution_count": 17
  },
  {
   "cell_type": "code",
   "outputs": [],
   "source": [
    "def lemmatize(text, pymorphy=m):\n",
    "    try:\n",
    "        return \" \".join([pymorphy.parse(w)[0].normal_form for w in text])\n",
    "    except:\n",
    "        return \" \""
   ],
   "metadata": {
    "collapsed": false,
    "ExecuteTime": {
     "end_time": "2024-03-20T16:28:41.144244Z",
     "start_time": "2024-03-20T16:28:41.138170Z"
    }
   },
   "id": "d9e9ba9d2f204e1d",
   "execution_count": 18
  },
  {
   "cell_type": "code",
   "outputs": [],
   "source": [
    "def clean_text(text):\n",
    "    return lemmatize(words_only(text))"
   ],
   "metadata": {
    "collapsed": false,
    "ExecuteTime": {
     "end_time": "2024-03-20T16:29:23.049130Z",
     "start_time": "2024-03-20T16:29:23.043931Z"
    }
   },
   "id": "9b3e545f669c0647",
   "execution_count": 19
  },
  {
   "cell_type": "code",
   "outputs": [
    {
     "name": "stderr",
     "output_type": "stream",
     "text": [
      "/tmp/ipykernel_5591/1996037650.py:2: TqdmDeprecationWarning: This function will be removed in tqdm==5.0.0\n",
      "Please use `tqdm.notebook.tqdm` instead of `tqdm.tqdm_notebook`\n",
      "  lemmas = list(tqdm(p.imap(clean_text, lenta['title']), total=len(lenta)))\n"
     ]
    },
    {
     "data": {
      "text/plain": "  0%|          | 0/258273 [00:00<?, ?it/s]",
      "application/vnd.jupyter.widget-view+json": {
       "version_major": 2,
       "version_minor": 0,
       "model_id": "52321838d00147159436dd6229fa8bc3"
      }
     },
     "metadata": {},
     "output_type": "display_data"
    },
    {
     "data": {
      "text/plain": "                                               title  \\\n0         Телеканалы станут вещать по единому тарифу   \n1          Volkswagen выкупает остатки акций \"Шкоды\"   \n2           Прибыль Тюменнефтегаза возросла в 10 раз   \n3  Крупнейшее в истории слияние компаний происход...   \n4            ГАЗ получил четверть обещанного кредита   \n\n                                                text      topic  \\\n0  С 1 января 2000 года все телеканалы будут опла...  Экономика   \n1  Германский автопромышленный концерн Volkswagen...  Экономика   \n2  Нераспределенная прибыль ОАО \"Тюменнефтегаз\", ...  Экономика   \n3  Две крупнейших телекоммуникационных компании С...  Экономика   \n4  ОАО \"ГАЗ\" и Нижегородский банк Сбербанка Росси...  Экономика   \n\n                                              lemmas  \n0             телеканал стать вещать по единый тариф  \n1            volkswagen выкупать остаток акция шкода  \n2               прибыль тюменнефтегаз возрасти в раз  \n3  крупный в история слияние компания происходить...  \n4               газ получить четверть обещать кредит  ",
      "text/html": "<div>\n<style scoped>\n    .dataframe tbody tr th:only-of-type {\n        vertical-align: middle;\n    }\n\n    .dataframe tbody tr th {\n        vertical-align: top;\n    }\n\n    .dataframe thead th {\n        text-align: right;\n    }\n</style>\n<table border=\"1\" class=\"dataframe\">\n  <thead>\n    <tr style=\"text-align: right;\">\n      <th></th>\n      <th>title</th>\n      <th>text</th>\n      <th>topic</th>\n      <th>lemmas</th>\n    </tr>\n  </thead>\n  <tbody>\n    <tr>\n      <th>0</th>\n      <td>Телеканалы станут вещать по единому тарифу</td>\n      <td>С 1 января 2000 года все телеканалы будут опла...</td>\n      <td>Экономика</td>\n      <td>телеканал стать вещать по единый тариф</td>\n    </tr>\n    <tr>\n      <th>1</th>\n      <td>Volkswagen выкупает остатки акций \"Шкоды\"</td>\n      <td>Германский автопромышленный концерн Volkswagen...</td>\n      <td>Экономика</td>\n      <td>volkswagen выкупать остаток акция шкода</td>\n    </tr>\n    <tr>\n      <th>2</th>\n      <td>Прибыль Тюменнефтегаза возросла в 10 раз</td>\n      <td>Нераспределенная прибыль ОАО \"Тюменнефтегаз\", ...</td>\n      <td>Экономика</td>\n      <td>прибыль тюменнефтегаз возрасти в раз</td>\n    </tr>\n    <tr>\n      <th>3</th>\n      <td>Крупнейшее в истории слияние компаний происход...</td>\n      <td>Две крупнейших телекоммуникационных компании С...</td>\n      <td>Экономика</td>\n      <td>крупный в история слияние компания происходить...</td>\n    </tr>\n    <tr>\n      <th>4</th>\n      <td>ГАЗ получил четверть обещанного кредита</td>\n      <td>ОАО \"ГАЗ\" и Нижегородский банк Сбербанка Росси...</td>\n      <td>Экономика</td>\n      <td>газ получить четверть обещать кредит</td>\n    </tr>\n  </tbody>\n</table>\n</div>"
     },
     "execution_count": 22,
     "metadata": {},
     "output_type": "execute_result"
    }
   ],
   "source": [
    "with Pool(8) as p:\n",
    "    lemmas = list(tqdm(p.imap(clean_text, lenta['title']), total=len(lenta)))\n",
    "    \n",
    "lenta['lemmas'] = lemmas\n",
    "lenta.head()"
   ],
   "metadata": {
    "collapsed": false,
    "ExecuteTime": {
     "end_time": "2024-03-20T16:32:11.948041Z",
     "start_time": "2024-03-20T16:31:41.014462Z"
    }
   },
   "id": "a714d7e239570fb7",
   "execution_count": 22
  },
  {
   "cell_type": "code",
   "outputs": [
    {
     "name": "stderr",
     "output_type": "stream",
     "text": [
      "/tmp/ipykernel_5591/282211254.py:2: TqdmDeprecationWarning: This function will be removed in tqdm==5.0.0\n",
      "Please use `tqdm.notebook.tqdm` instead of `tqdm.tqdm_notebook`\n",
      "  lemmas = list(tqdm(p.imap(clean_text, lenta['topic']), total=len(lenta)))\n"
     ]
    },
    {
     "data": {
      "text/plain": "  0%|          | 0/258273 [00:00<?, ?it/s]",
      "application/vnd.jupyter.widget-view+json": {
       "version_major": 2,
       "version_minor": 0,
       "model_id": "0d8ca05573f44a75b7e60e1b6ea8192a"
      }
     },
     "metadata": {},
     "output_type": "display_data"
    },
    {
     "data": {
      "text/plain": "                                               title  \\\n0         Телеканалы станут вещать по единому тарифу   \n1          Volkswagen выкупает остатки акций \"Шкоды\"   \n2           Прибыль Тюменнефтегаза возросла в 10 раз   \n3  Крупнейшее в истории слияние компаний происход...   \n4            ГАЗ получил четверть обещанного кредита   \n\n                                                text      topic  \\\n0  С 1 января 2000 года все телеканалы будут опла...  Экономика   \n1  Германский автопромышленный концерн Volkswagen...  Экономика   \n2  Нераспределенная прибыль ОАО \"Тюменнефтегаз\", ...  Экономика   \n3  Две крупнейших телекоммуникационных компании С...  Экономика   \n4  ОАО \"ГАЗ\" и Нижегородский банк Сбербанка Росси...  Экономика   \n\n                                              lemmas  topic_lem  \n0             телеканал стать вещать по единый тариф  экономика  \n1            volkswagen выкупать остаток акция шкода  экономика  \n2               прибыль тюменнефтегаз возрасти в раз  экономика  \n3  крупный в история слияние компания происходить...  экономика  \n4               газ получить четверть обещать кредит  экономика  ",
      "text/html": "<div>\n<style scoped>\n    .dataframe tbody tr th:only-of-type {\n        vertical-align: middle;\n    }\n\n    .dataframe tbody tr th {\n        vertical-align: top;\n    }\n\n    .dataframe thead th {\n        text-align: right;\n    }\n</style>\n<table border=\"1\" class=\"dataframe\">\n  <thead>\n    <tr style=\"text-align: right;\">\n      <th></th>\n      <th>title</th>\n      <th>text</th>\n      <th>topic</th>\n      <th>lemmas</th>\n      <th>topic_lem</th>\n    </tr>\n  </thead>\n  <tbody>\n    <tr>\n      <th>0</th>\n      <td>Телеканалы станут вещать по единому тарифу</td>\n      <td>С 1 января 2000 года все телеканалы будут опла...</td>\n      <td>Экономика</td>\n      <td>телеканал стать вещать по единый тариф</td>\n      <td>экономика</td>\n    </tr>\n    <tr>\n      <th>1</th>\n      <td>Volkswagen выкупает остатки акций \"Шкоды\"</td>\n      <td>Германский автопромышленный концерн Volkswagen...</td>\n      <td>Экономика</td>\n      <td>volkswagen выкупать остаток акция шкода</td>\n      <td>экономика</td>\n    </tr>\n    <tr>\n      <th>2</th>\n      <td>Прибыль Тюменнефтегаза возросла в 10 раз</td>\n      <td>Нераспределенная прибыль ОАО \"Тюменнефтегаз\", ...</td>\n      <td>Экономика</td>\n      <td>прибыль тюменнефтегаз возрасти в раз</td>\n      <td>экономика</td>\n    </tr>\n    <tr>\n      <th>3</th>\n      <td>Крупнейшее в истории слияние компаний происход...</td>\n      <td>Две крупнейших телекоммуникационных компании С...</td>\n      <td>Экономика</td>\n      <td>крупный в история слияние компания происходить...</td>\n      <td>экономика</td>\n    </tr>\n    <tr>\n      <th>4</th>\n      <td>ГАЗ получил четверть обещанного кредита</td>\n      <td>ОАО \"ГАЗ\" и Нижегородский банк Сбербанка Росси...</td>\n      <td>Экономика</td>\n      <td>газ получить четверть обещать кредит</td>\n      <td>экономика</td>\n    </tr>\n  </tbody>\n</table>\n</div>"
     },
     "execution_count": 23,
     "metadata": {},
     "output_type": "execute_result"
    }
   ],
   "source": [
    "with Pool(8) as p:\n",
    "    lemmas = list(tqdm(p.imap(clean_text, lenta['topic']), total=len(lenta)))\n",
    "\n",
    "lenta['topic_lem'] = lemmas\n",
    "lenta.head()"
   ],
   "metadata": {
    "collapsed": false,
    "ExecuteTime": {
     "end_time": "2024-03-20T16:42:11.619182Z",
     "start_time": "2024-03-20T16:41:55.418678Z"
    }
   },
   "id": "30d760516691de0",
   "execution_count": 23
  },
  {
   "cell_type": "code",
   "outputs": [
    {
     "name": "stdout",
     "output_type": "stream",
     "text": [
      "total train examples 173042\n",
      "total test examples 85231\n"
     ]
    }
   ],
   "source": [
    "X = lenta.lemmas.tolist()\n",
    "y = lenta.topic_lem.tolist()\n",
    "\n",
    "X, y = np.array(X), np.array(y)\n",
    "\n",
    "X_train, X_test, y_train, y_test = train_test_split(X,y, test_size=0.33)\n",
    "print (\"total train examples %s\" % len(y_train))\n",
    "print (\"total test examples %s\" % len(y_test))"
   ],
   "metadata": {
    "collapsed": false,
    "ExecuteTime": {
     "end_time": "2024-03-20T16:44:16.746908Z",
     "start_time": "2024-03-20T16:44:16.279260Z"
    }
   },
   "id": "271c9b5374a3353a",
   "execution_count": 30
  },
  {
   "cell_type": "code",
   "outputs": [],
   "source": [
    "with open('data.train.txt', 'w+') as outfile:\n",
    "    for i in range(len(X_train)):\n",
    "        outfile.write('__label__' + y_train[i] + ' '+ X_train[i] + '\\n')\n",
    "\n",
    "with open('test.txt', 'w+') as outfile:\n",
    "    for i in range(len(X_test)):\n",
    "        outfile.write('__label__' + y_test[i] + ' ' + X_test[i] + '\\n')"
   ],
   "metadata": {
    "collapsed": false,
    "ExecuteTime": {
     "end_time": "2024-03-20T16:44:38.123610Z",
     "start_time": "2024-03-20T16:44:37.465933Z"
    }
   },
   "id": "184ce80536f343c8",
   "execution_count": 31
  },
  {
   "cell_type": "code",
   "outputs": [
    {
     "name": "stderr",
     "output_type": "stream",
     "text": [
      "Read 1M words\n",
      "Number of words:  43803\n",
      "Number of labels: 5\n",
      "Progress: 100.0% words/sec/thread:  168033 lr:  0.000000 avg.loss:  0.167099 ETA:   0h 0m 0s\n"
     ]
    }
   ],
   "source": [
    "classifier = fasttext.train_supervised('data.train.txt')\n",
    "result = classifier.test('test.txt')"
   ],
   "metadata": {
    "collapsed": false,
    "ExecuteTime": {
     "end_time": "2024-03-20T16:44:54.908011Z",
     "start_time": "2024-03-20T16:44:53.022736Z"
    }
   },
   "id": "49c92f830725eb05",
   "execution_count": 32
  },
  {
   "cell_type": "code",
   "outputs": [
    {
     "data": {
      "text/plain": "['BOW',\n 'EOS',\n 'EOW',\n 'FastText',\n '__builtins__',\n '__cached__',\n '__doc__',\n '__file__',\n '__loader__',\n '__name__',\n '__package__',\n '__path__',\n '__spec__',\n 'absolute_import',\n 'cbow',\n 'division',\n 'load_model',\n 'print_function',\n 'skipgram',\n 'supervised',\n 'tokenize',\n 'train_supervised',\n 'train_unsupervised',\n 'unicode_literals']"
     },
     "execution_count": 33,
     "metadata": {},
     "output_type": "execute_result"
    }
   ],
   "source": [
    "dir(fasttext)"
   ],
   "metadata": {
    "collapsed": false,
    "ExecuteTime": {
     "end_time": "2024-03-20T16:45:03.826109Z",
     "start_time": "2024-03-20T16:45:03.818731Z"
    }
   },
   "id": "6d168fbf0639d2a9",
   "execution_count": 33
  },
  {
   "cell_type": "code",
   "outputs": [
    {
     "data": {
      "text/plain": "(85231, 0.9575858549119451, 0.9575858549119451)"
     },
     "execution_count": 34,
     "metadata": {},
     "output_type": "execute_result"
    }
   ],
   "source": [
    "result"
   ],
   "metadata": {
    "collapsed": false,
    "ExecuteTime": {
     "end_time": "2024-03-20T16:45:15.770629Z",
     "start_time": "2024-03-20T16:45:15.763785Z"
    }
   },
   "id": "cd65b0283ec71ce8",
   "execution_count": 34
  },
  {
   "cell_type": "code",
   "outputs": [
    {
     "name": "stdout",
     "output_type": "stream",
     "text": [
      "P@1: 0.9575858549119451\n",
      "R@1: 0.9575858549119451\n",
      "Number of examples: 85231\n"
     ]
    }
   ],
   "source": [
    "print('P@1:', result[1])\n",
    "print('R@1:', result[2])\n",
    "print('Number of examples:', result[0])"
   ],
   "metadata": {
    "collapsed": false,
    "ExecuteTime": {
     "end_time": "2024-03-20T16:45:30.903008Z",
     "start_time": "2024-03-20T16:45:30.895976Z"
    }
   },
   "id": "a513d6d69cbd57a6",
   "execution_count": 35
  },
  {
   "cell_type": "code",
   "outputs": [
    {
     "data": {
      "text/plain": "array(['спасти авиакомпания сша от банкротство мочь миллиард доллар',\n       'тарпищев вернуть кузнецов в сборная россия по теннис',\n       'персонаж смешарик спародировать сериал в всё тяжкий', ...,\n       'евросоюз задуматься о продление кредит для греция на год',\n       'глава нью йоркский биржа грозить отставка из за премия в миллион доллар',\n       'эколог просчитать риск проект строительство северный поток'],\n      dtype='<U119')"
     },
     "execution_count": 41,
     "metadata": {},
     "output_type": "execute_result"
    }
   ],
   "source": [
    "X_test"
   ],
   "metadata": {
    "collapsed": false,
    "ExecuteTime": {
     "end_time": "2024-03-20T16:49:41.141324Z",
     "start_time": "2024-03-20T16:49:41.134975Z"
    }
   },
   "id": "1d40c3f2e2d4291a",
   "execution_count": 41
  },
  {
   "cell_type": "code",
   "outputs": [
    {
     "name": "stdout",
     "output_type": "stream",
     "text": [
      "__label__экономика спасти авиакомпания сша от банкротство мочь миллиард доллар\r\n",
      "__label__спорт тарпищев вернуть кузнецов в сборная россия по теннис\r\n",
      "__label__культура персонаж смешарик спародировать сериал в всё тяжкий\r\n",
      "__label__экономика росатом построить аэс акковать с новый партнёр\r\n",
      "__label__наука и техника наса показать гигантский пузырь\r\n",
      "__label__экономика чистый прибыль сибнефть за год вырасти в два раз\r\n",
      "__label__культура михаил горбачёв встретиться в кремль с гельмут колоть для съёмка телесериал\r\n",
      "__label__спорт тренер манчестер юнайтед отправить руни в дубль\r\n",
      "__label__наука и техника предсказать срок тотальный ожирение человечество\r\n",
      "__label__экономика эксперт обсудить экология теплоснабжение красноярск\r\n"
     ]
    }
   ],
   "source": [
    "!head -n 10 test.txt"
   ],
   "metadata": {
    "collapsed": false,
    "ExecuteTime": {
     "end_time": "2024-03-20T17:34:51.113920Z",
     "start_time": "2024-03-20T17:34:50.325019Z"
    }
   },
   "id": "fb4f023a8046eb3b",
   "execution_count": 48
  },
  {
   "cell_type": "code",
   "outputs": [
    {
     "name": "stdout",
     "output_type": "stream",
     "text": [
      "__label__экономика курс доллар снизиться до рубль\r\n",
      "__label__экономика при строительство подмосковный кольцо наслать нарушение на миллиард рубль\r\n",
      "__label__спорт давид вилья прилететь на матч на частный самолёт\r\n",
      "__label__культура неизвестный песня the doors издать в январь год\r\n",
      "__label__спорт избитый футболист сборная россия болельщик уличить в ложь\r\n",
      "__label__экономика бельгийский конкурент mcdonald s открыть ресторан в москва\r\n",
      "__label__экономика в сша ужесточить правило выдача ипотечный кредит\r\n",
      "__label__культура голландский музей идентифицировать картина халс\r\n",
      "__label__культура лидер crowded house записать альбом с участник radiohead\r\n",
      "__label__наука и техника зенитный ракета смочь поражать надводный цель\r\n"
     ]
    }
   ],
   "source": [
    "!head -n 10 data.train.txt"
   ],
   "metadata": {
    "collapsed": false,
    "ExecuteTime": {
     "end_time": "2024-03-20T17:42:25.771923Z",
     "start_time": "2024-03-20T17:42:25.008979Z"
    }
   },
   "id": "22a1bc8a1fd9bc1b",
   "execution_count": 49
  },
  {
   "cell_type": "code",
   "outputs": [
    {
     "data": {
      "text/plain": "(('__label__культура',), array([1.00000131]))"
     },
     "execution_count": 50,
     "metadata": {},
     "output_type": "execute_result"
    }
   ],
   "source": [
    "classifier.predict(\"лидер crowded house записать альбом с участник radiohead\")"
   ],
   "metadata": {
    "collapsed": false,
    "ExecuteTime": {
     "end_time": "2024-03-20T17:58:05.172457Z",
     "start_time": "2024-03-20T17:58:05.157444Z"
    }
   },
   "id": "35c49131bf2be6d0",
   "execution_count": 50
  },
  {
   "cell_type": "code",
   "outputs": [],
   "source": [],
   "metadata": {
    "collapsed": false
   },
   "id": "2ea9b65c6d6eddbb"
  }
 ],
 "metadata": {
  "kernelspec": {
   "display_name": "Python 3",
   "language": "python",
   "name": "python3"
  },
  "language_info": {
   "codemirror_mode": {
    "name": "ipython",
    "version": 2
   },
   "file_extension": ".py",
   "mimetype": "text/x-python",
   "name": "python",
   "nbconvert_exporter": "python",
   "pygments_lexer": "ipython2",
   "version": "2.7.6"
  }
 },
 "nbformat": 4,
 "nbformat_minor": 5
}
