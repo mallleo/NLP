{
 "cells": [
  {
   "cell_type": "code",
   "execution_count": 1,
   "id": "initial_id",
   "metadata": {
    "collapsed": true,
    "ExecuteTime": {
     "end_time": "2024-03-19T17:22:19.948590Z",
     "start_time": "2024-03-19T17:22:19.111013Z"
    }
   },
   "outputs": [],
   "source": [
    "import pandas as pd\n",
    "import fasttext\n",
    "import pymorphy3\n",
    "from multiprocessing import Pool\n",
    "import numpy as np\n",
    "from sklearn.model_selection import train_test_split\n",
    "from tqdm import tqdm_notebook as tqdm\n",
    "import re"
   ]
  },
  {
   "cell_type": "code",
   "outputs": [
    {
     "data": {
      "text/plain": "                                               title  \\\n0         Телеканалы станут вещать по единому тарифу   \n1          Volkswagen выкупает остатки акций \"Шкоды\"   \n2           Прибыль Тюменнефтегаза возросла в 10 раз   \n3  Крупнейшее в истории слияние компаний происход...   \n4            ГАЗ получил четверть обещанного кредита   \n\n                                                text      topic  \n0  С 1 января 2000 года все телеканалы будут опла...  Экономика  \n1  Германский автопромышленный концерн Volkswagen...  Экономика  \n2  Нераспределенная прибыль ОАО \"Тюменнефтегаз\", ...  Экономика  \n3  Две крупнейших телекоммуникационных компании С...  Экономика  \n4  ОАО \"ГАЗ\" и Нижегородский банк Сбербанка Росси...  Экономика  ",
      "text/html": "<div>\n<style scoped>\n    .dataframe tbody tr th:only-of-type {\n        vertical-align: middle;\n    }\n\n    .dataframe tbody tr th {\n        vertical-align: top;\n    }\n\n    .dataframe thead th {\n        text-align: right;\n    }\n</style>\n<table border=\"1\" class=\"dataframe\">\n  <thead>\n    <tr style=\"text-align: right;\">\n      <th></th>\n      <th>title</th>\n      <th>text</th>\n      <th>topic</th>\n    </tr>\n  </thead>\n  <tbody>\n    <tr>\n      <th>0</th>\n      <td>Телеканалы станут вещать по единому тарифу</td>\n      <td>С 1 января 2000 года все телеканалы будут опла...</td>\n      <td>Экономика</td>\n    </tr>\n    <tr>\n      <th>1</th>\n      <td>Volkswagen выкупает остатки акций \"Шкоды\"</td>\n      <td>Германский автопромышленный концерн Volkswagen...</td>\n      <td>Экономика</td>\n    </tr>\n    <tr>\n      <th>2</th>\n      <td>Прибыль Тюменнефтегаза возросла в 10 раз</td>\n      <td>Нераспределенная прибыль ОАО \"Тюменнефтегаз\", ...</td>\n      <td>Экономика</td>\n    </tr>\n    <tr>\n      <th>3</th>\n      <td>Крупнейшее в истории слияние компаний происход...</td>\n      <td>Две крупнейших телекоммуникационных компании С...</td>\n      <td>Экономика</td>\n    </tr>\n    <tr>\n      <th>4</th>\n      <td>ГАЗ получил четверть обещанного кредита</td>\n      <td>ОАО \"ГАЗ\" и Нижегородский банк Сбербанка Росси...</td>\n      <td>Экономика</td>\n    </tr>\n  </tbody>\n</table>\n</div>"
     },
     "execution_count": 2,
     "metadata": {},
     "output_type": "execute_result"
    }
   ],
   "source": [
    "lenta = pd.read_csv('lenta-ru-news-part.csv', usecols=['title', 'text', 'topic'])\n",
    "lenta.head()"
   ],
   "metadata": {
    "collapsed": false,
    "ExecuteTime": {
     "end_time": "2024-03-19T17:23:53.614509Z",
     "start_time": "2024-03-19T17:23:44.584322Z"
    }
   },
   "id": "bfd0ef46d7a0a88c",
   "execution_count": 2
  },
  {
   "cell_type": "code",
   "outputs": [
    {
     "data": {
      "text/plain": "(258273, 3)"
     },
     "execution_count": 3,
     "metadata": {},
     "output_type": "execute_result"
    }
   ],
   "source": [
    "lenta.shape"
   ],
   "metadata": {
    "collapsed": false,
    "ExecuteTime": {
     "end_time": "2024-03-19T17:24:19.703437Z",
     "start_time": "2024-03-19T17:24:19.696793Z"
    }
   },
   "id": "fd4dd614d46ab45c",
   "execution_count": 3
  },
  {
   "cell_type": "code",
   "outputs": [
    {
     "data": {
      "text/plain": "topic\nЭкономика          79528\nСпорт              64413\nКультура           53797\nНаука и техника    53136\nБизнес              7399\nName: count, dtype: int64"
     },
     "execution_count": 4,
     "metadata": {},
     "output_type": "execute_result"
    }
   ],
   "source": [
    "lenta.topic.value_counts() # таргет задачи"
   ],
   "metadata": {
    "collapsed": false,
    "ExecuteTime": {
     "end_time": "2024-03-19T17:24:39.783481Z",
     "start_time": "2024-03-19T17:24:39.744610Z"
    }
   },
   "id": "3384df40244b8008",
   "execution_count": 4
  },
  {
   "cell_type": "code",
   "outputs": [],
   "source": [],
   "metadata": {
    "collapsed": false
   },
   "id": "5d432b896e170a4a"
  }
 ],
 "metadata": {
  "kernelspec": {
   "display_name": "Python 3",
   "language": "python",
   "name": "python3"
  },
  "language_info": {
   "codemirror_mode": {
    "name": "ipython",
    "version": 2
   },
   "file_extension": ".py",
   "mimetype": "text/x-python",
   "name": "python",
   "nbconvert_exporter": "python",
   "pygments_lexer": "ipython2",
   "version": "2.7.6"
  }
 },
 "nbformat": 4,
 "nbformat_minor": 5
}
