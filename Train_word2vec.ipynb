{
 "cells": [
  {
   "cell_type": "code",
   "execution_count": null,
   "metadata": {
    "id": "CggdAnzJ2726"
   },
   "outputs": [],
   "source": [
    "# https://stackoverflow.com/questions/47805170/whats-the-hardware-spec-for-google-colaboratory"
   ]
  },
  {
   "cell_type": "code",
   "execution_count": null,
   "metadata": {
    "id": "-qr3Pkpk288l"
   },
   "outputs": [],
   "source": [
    "!df -h"
   ]
  },
  {
   "cell_type": "code",
   "execution_count": null,
   "metadata": {
    "id": "H0ehj-jq29EB"
   },
   "outputs": [],
   "source": [
    "!cat /proc/cpuinfo"
   ]
  },
  {
   "cell_type": "code",
   "execution_count": null,
   "metadata": {
    "id": "HxtNczuR29K-"
   },
   "outputs": [],
   "source": [
    "!cat /proc/meminfo"
   ]
  },
  {
   "cell_type": "markdown",
   "metadata": {
    "id": "zNSg8pG1X5Rb"
   },
   "source": [
    "# Как научить компьютер читать?\n",
    "\n",
    "В этой тетрадке мы обучим свой собственный word2vec. Делать мы это будем на каком-нибудь не очень большом тексте, который вам предстоит выбрать самому. На выбор есть [несколько сказок](https://github.com/nevmenandr/word2vec-russian-novels/tree/master/vector-school) и других [литературных штук](https://github.com/nevmenandr/word2vec-russian-novels/tree/master/books_before) из школьной программы."
   ]
  },
  {
   "cell_type": "code",
   "execution_count": 1,
   "metadata": {
    "id": "9W8-koqyX5Rf",
    "ExecuteTime": {
     "end_time": "2024-03-18T16:41:06.320877Z",
     "start_time": "2024-03-18T16:41:06.310831Z"
    }
   },
   "outputs": [],
   "source": [
    "# Ссылка на выбранное вами произведение\n",
    "# Возьмем преступление и наказание\n",
    "url = 'https://raw.githubusercontent.com/nevmenandr/word2vec-russian-novels/master/books_before/CrimeAndPunishment.txt'"
   ]
  },
  {
   "cell_type": "markdown",
   "metadata": {
    "id": "jg0ui61mX5Ri"
   },
   "source": [
    "Спарсим текст из файлика.\\\n",
    "**`Requests`** [tutorial](https://realpython.com/python-requests/)"
   ]
  },
  {
   "cell_type": "code",
   "execution_count": 3,
   "metadata": {
    "colab": {
     "base_uri": "https://localhost:8080/"
    },
    "id": "9l9T23v4X5Ri",
    "outputId": "997f73c0-4698-44cd-adae-e42fd3298465",
    "ExecuteTime": {
     "end_time": "2024-03-18T16:55:11.418670Z",
     "start_time": "2024-03-18T16:55:10.433688Z"
    }
   },
   "outputs": [
    {
     "name": "stdout",
     "output_type": "stream",
     "text": [
      "смотреть на эти семь лет, как на семь\n",
      "дней. Он даже и не знал того, что новая жизнь не даром же ему достается, что ее надо еще дорого купить, заплатить за нее великим, будущим подвигом...\n",
      "Но тут уж начинается новая история, история постепенного обновления человека, история постепенного перерождения его, постепенного перехода из одного мира в другой, знакомства с новою, доселе совершенно неведомою действительностью. Это могло бы составить тему нового рассказа, - но теперешний рассказ наш окончен.\n"
     ]
    }
   ],
   "source": [
    "import requests\n",
    "\n",
    "resp = requests.get(url)\n",
    "text = resp.text\n",
    "\n",
    "# Последние 500 символов. Аккуратно! Спойлеры!\n",
    "print(text[-500:])"
   ]
  },
  {
   "cell_type": "markdown",
   "metadata": {
    "id": "-IkB1iNlX5Rk"
   },
   "source": [
    "## 1. Предобработка\n",
    "\n",
    "Теперь нам надо его немного предобработать.  Пусть все слова пишутся с маленькой буквы."
   ]
  },
  {
   "cell_type": "code",
   "execution_count": 4,
   "metadata": {
    "id": "0idm7hLjX5Rk",
    "ExecuteTime": {
     "end_time": "2024-03-18T16:55:13.265300Z",
     "start_time": "2024-03-18T16:55:13.231495Z"
    }
   },
   "outputs": [],
   "source": [
    "text = text.lower()"
   ]
  },
  {
   "cell_type": "markdown",
   "metadata": {
    "id": "-1Asoq64X5Rl"
   },
   "source": [
    "Разобьём весь текст на предложения. \\\n",
    "**`re`** [tutorial](https://tproger.ru/translations/regular-expression-python/)"
   ]
  },
  {
   "cell_type": "code",
   "execution_count": 5,
   "metadata": {
    "id": "wMYZEyG_X5Rl",
    "ExecuteTime": {
     "end_time": "2024-03-18T16:55:15.089526Z",
     "start_time": "2024-03-18T16:55:15.053038Z"
    }
   },
   "outputs": [],
   "source": [
    "import re\n",
    "# выкидываем лишние символы!\n",
    "text = re.sub('\\n|\\t|\\r', ' ', text)"
   ]
  },
  {
   "cell_type": "markdown",
   "metadata": {
    "id": "5lWzXCmsPnTg"
   },
   "source": [
    "**`nltk`** [tutorial](https://www.guru99.com/nltk-tutorial.html)"
   ]
  },
  {
   "cell_type": "code",
   "execution_count": 6,
   "metadata": {
    "colab": {
     "base_uri": "https://localhost:8080/"
    },
    "id": "MFrHan9tOykI",
    "outputId": "1bc3ce86-9b5d-4048-8460-6d475276ed07",
    "ExecuteTime": {
     "end_time": "2024-03-18T16:55:20.268931Z",
     "start_time": "2024-03-18T16:55:18.872128Z"
    }
   },
   "outputs": [
    {
     "name": "stderr",
     "output_type": "stream",
     "text": [
      "[nltk_data] Downloading package stopwords to /home/malleo/nltk_data...\n",
      "[nltk_data]   Package stopwords is already up-to-date!\n",
      "[nltk_data] Downloading package punkt to /home/malleo/nltk_data...\n",
      "[nltk_data]   Package punkt is already up-to-date!\n"
     ]
    },
    {
     "data": {
      "text/plain": "True"
     },
     "execution_count": 6,
     "metadata": {},
     "output_type": "execute_result"
    }
   ],
   "source": [
    "import nltk\n",
    "\n",
    "# nltk.download('all') # если хотим всё и сразу\n",
    "\n",
    "# нам хватит вот этого:\n",
    "nltk.download('stopwords')\n",
    "nltk.download('punkt')"
   ]
  },
  {
   "cell_type": "code",
   "execution_count": 9,
   "metadata": {
    "colab": {
     "base_uri": "https://localhost:8080/"
    },
    "id": "oVq7vAJ-X5Rm",
    "outputId": "05265108-1568-4b85-fdd1-7f3a0b5f7667",
    "ExecuteTime": {
     "end_time": "2024-03-18T17:04:36.160867Z",
     "start_time": "2024-03-18T17:04:35.744575Z"
    }
   },
   "outputs": [
    {
     "data": {
      "text/plain": "13702"
     },
     "execution_count": 9,
     "metadata": {},
     "output_type": "execute_result"
    }
   ],
   "source": [
    "from nltk.tokenize import sent_tokenize\n",
    "\n",
    "sents = sent_tokenize(text)\n",
    "\n",
    "len(sents)"
   ]
  },
  {
   "cell_type": "code",
   "execution_count": 7,
   "metadata": {
    "colab": {
     "base_uri": "https://localhost:8080/",
     "height": 35
    },
    "id": "jLcWiRIXX5Rn",
    "outputId": "c90fec29-3544-42d7-aed2-3a76dcd77fc1",
    "ExecuteTime": {
     "end_time": "2024-03-17T06:28:21.412685Z",
     "start_time": "2024-03-17T06:28:21.406239Z"
    }
   },
   "outputs": [
    {
     "data": {
      "text/plain": "'действительно, на его платье и даже в волосах кое-где виднелись прилипшие былинки сена.'"
     },
     "execution_count": 7,
     "metadata": {},
     "output_type": "execute_result"
    }
   ],
   "source": [
    "sents[220]"
   ]
  },
  {
   "cell_type": "markdown",
   "metadata": {
    "id": "hNOGapnVX5Rn"
   },
   "source": [
    "Разобьём каждое предложение на отдельные слова."
   ]
  },
  {
   "cell_type": "code",
   "execution_count": 10,
   "metadata": {
    "colab": {
     "base_uri": "https://localhost:8080/",
     "height": 109
    },
    "id": "xfBgyxv8Uo7p",
    "outputId": "19759dc7-f110-490b-ebd7-fd46d8687cad",
    "ExecuteTime": {
     "end_time": "2024-03-18T17:04:37.935253Z",
     "start_time": "2024-03-18T17:04:37.928030Z"
    }
   },
   "outputs": [
    {
     "name": "stdout",
     "output_type": "stream",
     "text": [
      "['преступление', 'и', 'наказание', 'роман', 'в', 'шести', 'частях', 'с', 'эпилогом', 'часть', 'первая', 'i', 'в', 'начале', 'июля', ',', 'в', 'чрезвычайно', 'жаркое', 'время', ',', 'под', 'вечер', ',', 'один', 'молодой', 'человек', 'вышел', 'из', 'своей', 'каморки', ',', 'которую', 'нанимал', 'от', 'жильцов', 'в', 'с', '-', 'м', 'переулке', ',', 'на', 'улицу', 'и', 'медленно', ',', 'как', 'бы', 'в', 'нерешимости', ',', 'отправился', 'к', 'к', '-', 'ну', 'мосту', '.'] \n"
     ]
    },
    {
     "data": {
      "text/plain": "'преступление и наказание роман  в шести частях с эпилогом  часть первая  i  в начале июля, в чрезвычайно жаркое время, под вечер, один молодой человек вышел из своей каморки, которую нанимал от жильцов в с - м переулке, на улицу и медленно, как бы в нерешимости, отправился к к - ну мосту.'"
     },
     "execution_count": 10,
     "metadata": {},
     "output_type": "execute_result"
    }
   ],
   "source": [
    "from nltk.tokenize import word_tokenize\n",
    "\n",
    "print(word_tokenize(sents[0]), '\\n')\n",
    "sents[0]"
   ]
  },
  {
   "cell_type": "code",
   "execution_count": 11,
   "metadata": {
    "colab": {
     "base_uri": "https://localhost:8080/"
    },
    "id": "LLH0sapIX5Ro",
    "outputId": "db93ed6c-d8a2-4fad-ddf4-25b0dae50801",
    "ExecuteTime": {
     "end_time": "2024-03-18T17:04:40.203586Z",
     "start_time": "2024-03-18T17:04:40.194372Z"
    }
   },
   "outputs": [
    {
     "data": {
      "text/plain": "['преступление',\n 'и',\n 'наказание',\n 'роман',\n 'в',\n 'шести',\n 'частях',\n 'с',\n 'эпилогом',\n 'часть',\n 'первая',\n 'i',\n 'в',\n 'начале',\n 'июля',\n 'в',\n 'чрезвычайно',\n 'жаркое',\n 'время',\n 'под',\n 'вечер',\n 'один',\n 'молодой',\n 'человек',\n 'вышел',\n 'из',\n 'своей',\n 'каморки',\n 'которую',\n 'нанимал',\n 'от',\n 'жильцов',\n 'в',\n 'с',\n 'м',\n 'переулке',\n 'на',\n 'улицу',\n 'и',\n 'медленно',\n 'как',\n 'бы',\n 'в',\n 'нерешимости',\n 'отправился',\n 'к',\n 'к',\n 'ну',\n 'мосту']"
     },
     "execution_count": 11,
     "metadata": {},
     "output_type": "execute_result"
    }
   ],
   "source": [
    "from nltk.tokenize import RegexpTokenizer\n",
    "\n",
    "tokenizer = RegexpTokenizer('\\w+')\n",
    "tokenizer.tokenize(sents[0])"
   ]
  },
  {
   "cell_type": "code",
   "execution_count": 12,
   "metadata": {
    "colab": {
     "base_uri": "https://localhost:8080/"
    },
    "id": "mdtI_QmvX5Ro",
    "outputId": "6399748d-41b9-401e-df81-dc4d65b2e226",
    "ExecuteTime": {
     "end_time": "2024-03-18T17:04:42.705603Z",
     "start_time": "2024-03-18T17:04:42.587928Z"
    }
   },
   "outputs": [
    {
     "data": {
      "text/plain": "[['преступление',\n  'и',\n  'наказание',\n  'роман',\n  'в',\n  'шести',\n  'частях',\n  'с',\n  'эпилогом',\n  'часть',\n  'первая',\n  'i',\n  'в',\n  'начале',\n  'июля',\n  'в',\n  'чрезвычайно',\n  'жаркое',\n  'время',\n  'под',\n  'вечер',\n  'один',\n  'молодой',\n  'человек',\n  'вышел',\n  'из',\n  'своей',\n  'каморки',\n  'которую',\n  'нанимал',\n  'от',\n  'жильцов',\n  'в',\n  'с',\n  'м',\n  'переулке',\n  'на',\n  'улицу',\n  'и',\n  'медленно',\n  'как',\n  'бы',\n  'в',\n  'нерешимости',\n  'отправился',\n  'к',\n  'к',\n  'ну',\n  'мосту'],\n ['он',\n  'благополучно',\n  'избегнул',\n  'встречи',\n  'с',\n  'своею',\n  'хозяйкой',\n  'на',\n  'лестнице']]"
     },
     "execution_count": 12,
     "metadata": {},
     "output_type": "execute_result"
    }
   ],
   "source": [
    "# разбейте все предложения на токены\n",
    "sents_tokenize  =  [tokenizer.tokenize(item) for item in sents]\n",
    "sents_tokenize[:2]"
   ]
  },
  {
   "cell_type": "code",
   "execution_count": 13,
   "metadata": {
    "colab": {
     "base_uri": "https://localhost:8080/"
    },
    "id": "grHmUh9HX5Rp",
    "outputId": "7bba04f1-e75c-4f18-f4d8-ae3e5fc57eb8",
    "ExecuteTime": {
     "end_time": "2024-03-18T17:04:46.016190Z",
     "start_time": "2024-03-18T17:04:45.998541Z"
    }
   },
   "outputs": [
    {
     "data": {
      "text/plain": "['преступление',\n 'и',\n 'наказание',\n 'роман',\n 'в',\n 'шести',\n 'частях',\n 'с',\n 'эпилогом',\n 'часть']"
     },
     "execution_count": 13,
     "metadata": {},
     "output_type": "execute_result"
    }
   ],
   "source": [
    "# Flatten без numpy :)\n",
    "words = [item for sent in sents_tokenize for item in sent]\n",
    "words[:10]\n",
    "\n",
    "# Конструкция выше аналогично этому\n",
    "# words = []\n",
    "# for sent in sents_tokenize:\n",
    "#     for item in sent:\n",
    "#         if True:\n",
    "#             words.append(item)"
   ]
  },
  {
   "cell_type": "code",
   "execution_count": null,
   "metadata": {
    "colab": {
     "base_uri": "https://localhost:8080/"
    },
    "id": "QwwLIrq0X5Rp",
    "outputId": "1b820d8f-8b68-4d22-e6b8-af5cb1deb26b"
   },
   "outputs": [
    {
     "data": {
      "text/plain": [
       "173403"
      ]
     },
     "execution_count": 13,
     "metadata": {},
     "output_type": "execute_result"
    }
   ],
   "source": [
    "len(words) # всего слов"
   ]
  },
  {
   "cell_type": "code",
   "execution_count": null,
   "metadata": {
    "colab": {
     "base_uri": "https://localhost:8080/"
    },
    "id": "bx5aIgXwX5Rq",
    "outputId": "a082e1f2-e323-47fe-efd5-f43624e00eb0"
   },
   "outputs": [
    {
     "data": {
      "text/plain": [
       "24925"
      ]
     },
     "execution_count": 14,
     "metadata": {},
     "output_type": "execute_result"
    }
   ],
   "source": [
    "len(set(words)) # уникальных слов"
   ]
  },
  {
   "cell_type": "markdown",
   "metadata": {
    "id": "FNzy4bkZX5Rq"
   },
   "source": [
    "Можно выбросить все стоп-слова."
   ]
  },
  {
   "cell_type": "code",
   "execution_count": 14,
   "metadata": {
    "colab": {
     "base_uri": "https://localhost:8080/"
    },
    "id": "kIbhM3_AX5Rr",
    "outputId": "628d3c3e-094a-49db-e51f-a54deea5fe61",
    "ExecuteTime": {
     "end_time": "2024-03-18T17:04:48.758009Z",
     "start_time": "2024-03-18T17:04:48.747714Z"
    }
   },
   "outputs": [
    {
     "data": {
      "text/plain": "['и', 'в', 'во', 'не', 'что', 'он', 'на', 'я', 'с', 'со']"
     },
     "execution_count": 14,
     "metadata": {},
     "output_type": "execute_result"
    }
   ],
   "source": [
    "from nltk.corpus import stopwords\n",
    "\n",
    "stopwords_ru = stopwords.words('russian')\n",
    "stopwords_ru[:10]"
   ]
  },
  {
   "cell_type": "code",
   "execution_count": null,
   "metadata": {
    "colab": {
     "base_uri": "https://localhost:8080/"
    },
    "id": "rPBGw8oQX5Rr",
    "outputId": "4797078d-676f-4365-dc8b-a250bdb9011e"
   },
   "outputs": [
    {
     "data": {
      "text/plain": [
       "151"
      ]
     },
     "execution_count": 16,
     "metadata": {},
     "output_type": "execute_result"
    }
   ],
   "source": [
    "len(stopwords_ru)"
   ]
  },
  {
   "cell_type": "code",
   "execution_count": 15,
   "metadata": {
    "colab": {
     "base_uri": "https://localhost:8080/"
    },
    "id": "zioQwW9zX5Rs",
    "outputId": "780839db-cce4-4403-8653-66c129176dce",
    "ExecuteTime": {
     "end_time": "2024-03-18T17:04:56.333221Z",
     "start_time": "2024-03-18T17:04:56.049885Z"
    }
   },
   "outputs": [
    {
     "data": {
      "text/plain": "[['преступление',\n  'наказание',\n  'роман',\n  'шести',\n  'частях',\n  'эпилогом',\n  'часть',\n  'первая',\n  'i',\n  'начале',\n  'июля',\n  'чрезвычайно',\n  'жаркое',\n  'время',\n  'вечер',\n  'молодой',\n  'человек',\n  'вышел',\n  'своей',\n  'каморки',\n  'которую',\n  'нанимал',\n  'жильцов',\n  'м',\n  'переулке',\n  'улицу',\n  'медленно',\n  'нерешимости',\n  'отправился',\n  'мосту'],\n ['благополучно', 'избегнул', 'встречи', 'своею', 'хозяйкой', 'лестнице']]"
     },
     "execution_count": 15,
     "metadata": {},
     "output_type": "execute_result"
    }
   ],
   "source": [
    "# избавьтесь от стоп-слов\n",
    "sents_tokenize = [[item for item in sent if item not in stopwords_ru]\n",
    "                        for sent in sents_tokenize]\n",
    "sents_tokenize[:2]"
   ]
  },
  {
   "cell_type": "markdown",
   "metadata": {
    "id": "uohGUT4rX5Rs"
   },
   "source": [
    "Слов в корпусе не очень много. Давайте лемматизируем их.  В этом нам поможет библиотека **pymorphy2.**\n",
    "\n",
    "**pymorphy2** — это полноценный морфологический анализатор, целиком написанный на Python. Он также умеет ставить слова в нужную форму (спрягать и склонять). [Документация по pymorphy2.](https://pymorphy2.readthedocs.io/en/latest/)"
   ]
  },
  {
   "cell_type": "code",
   "execution_count": null,
   "metadata": {
    "colab": {
     "base_uri": "https://localhost:8080/"
    },
    "id": "eCfxEO2DYuak",
    "outputId": "5e476409-9116-4ebc-9107-01fa13c5103a"
   },
   "outputs": [
    {
     "name": "stdout",
     "output_type": "stream",
     "text": [
      "Looking in indexes: https://pypi.org/simple, https://us-python.pkg.dev/colab-wheels/public/simple/\n",
      "Collecting pymorphy2\n",
      "  Downloading pymorphy2-0.9.1-py3-none-any.whl (55 kB)\n",
      "\u001B[2K     \u001B[90m━━━━━━━━━━━━━━━━━━━━━━━━━━━━━━━━━━━━━━━━\u001B[0m \u001B[32m55.5/55.5 kB\u001B[0m \u001B[31m4.2 MB/s\u001B[0m eta \u001B[36m0:00:00\u001B[0m\n",
      "\u001B[?25hCollecting dawg-python>=0.7.1 (from pymorphy2)\n",
      "  Downloading DAWG_Python-0.7.2-py2.py3-none-any.whl (11 kB)\n",
      "Collecting pymorphy2-dicts-ru<3.0,>=2.4 (from pymorphy2)\n",
      "  Downloading pymorphy2_dicts_ru-2.4.417127.4579844-py2.py3-none-any.whl (8.2 MB)\n",
      "\u001B[2K     \u001B[90m━━━━━━━━━━━━━━━━━━━━━━━━━━━━━━━━━━━━━━━━\u001B[0m \u001B[32m8.2/8.2 MB\u001B[0m \u001B[31m72.4 MB/s\u001B[0m eta \u001B[36m0:00:00\u001B[0m\n",
      "\u001B[?25hCollecting docopt>=0.6 (from pymorphy2)\n",
      "  Downloading docopt-0.6.2.tar.gz (25 kB)\n",
      "  Preparing metadata (setup.py) ... \u001B[?25l\u001B[?25hdone\n",
      "Building wheels for collected packages: docopt\n",
      "  Building wheel for docopt (setup.py) ... \u001B[?25l\u001B[?25hdone\n",
      "  Created wheel for docopt: filename=docopt-0.6.2-py2.py3-none-any.whl size=13707 sha256=47d03e32fcee64585a441f8646f2669806aa29d55f06918e33ad95e904873586\n",
      "  Stored in directory: /root/.cache/pip/wheels/fc/ab/d4/5da2067ac95b36618c629a5f93f809425700506f72c9732fac\n",
      "Successfully built docopt\n",
      "Installing collected packages: pymorphy2-dicts-ru, docopt, dawg-python, pymorphy2\n",
      "Successfully installed dawg-python-0.7.2 docopt-0.6.2 pymorphy2-0.9.1 pymorphy2-dicts-ru-2.4.417127.4579844\n"
     ]
    }
   ],
   "source": [
    "!pip install pymorphy3"
   ]
  },
  {
   "cell_type": "code",
   "execution_count": 16,
   "metadata": {
    "colab": {
     "base_uri": "https://localhost:8080/",
     "height": 35
    },
    "id": "X3VlaVAKX5Rs",
    "outputId": "7d02c57c-4205-41c5-a8d1-1e70d3a7e8d5",
    "ExecuteTime": {
     "end_time": "2024-03-18T17:05:02.917026Z",
     "start_time": "2024-03-18T17:05:02.808789Z"
    }
   },
   "outputs": [
    {
     "data": {
      "text/plain": "'филипп пойти в авиньон и пленить папа'"
     },
     "execution_count": 16,
     "metadata": {},
     "output_type": "execute_result"
    }
   ],
   "source": [
    "import pymorphy3\n",
    "\n",
    "\n",
    "morph = pymorphy3.MorphAnalyzer()\n",
    "\n",
    "text = \"Филипп пошёл в Авиньон и пленил пап!\"\n",
    "tokens = tokenizer.tokenize(text)  # regexp tokenizer initialized earlier\n",
    "\n",
    "\" \".join(morph.normal_forms(token)[0] for token in tokens)"
   ]
  },
  {
   "cell_type": "code",
   "execution_count": null,
   "metadata": {
    "colab": {
     "base_uri": "https://localhost:8080/"
    },
    "id": "50_736blX5Rt",
    "outputId": "542e6b65-8bab-49f8-cd03-0d87d1274606"
   },
   "outputs": [
    {
     "data": {
      "text/plain": [
       "[Parse(word='стали', tag=OpencorporaTag('VERB,perf,intr plur,past,indc'), normal_form='стать', score=0.975342, methods_stack=((DictionaryAnalyzer(), 'стали', 945, 4),)),\n",
       " Parse(word='стали', tag=OpencorporaTag('NOUN,inan,femn sing,gent'), normal_form='сталь', score=0.010958, methods_stack=((DictionaryAnalyzer(), 'стали', 13, 1),)),\n",
       " Parse(word='стали', tag=OpencorporaTag('NOUN,inan,femn plur,nomn'), normal_form='сталь', score=0.005479, methods_stack=((DictionaryAnalyzer(), 'стали', 13, 6),)),\n",
       " Parse(word='стали', tag=OpencorporaTag('NOUN,inan,femn sing,datv'), normal_form='сталь', score=0.002739, methods_stack=((DictionaryAnalyzer(), 'стали', 13, 2),)),\n",
       " Parse(word='стали', tag=OpencorporaTag('NOUN,inan,femn sing,loct'), normal_form='сталь', score=0.002739, methods_stack=((DictionaryAnalyzer(), 'стали', 13, 5),)),\n",
       " Parse(word='стали', tag=OpencorporaTag('NOUN,inan,femn plur,accs'), normal_form='сталь', score=0.002739, methods_stack=((DictionaryAnalyzer(), 'стали', 13, 9),))]"
      ]
     },
     "execution_count": 21,
     "metadata": {},
     "output_type": "execute_result"
    }
   ],
   "source": [
    "p = morph.parse('стали')\n",
    "p"
   ]
  },
  {
   "cell_type": "markdown",
   "metadata": {
    "id": "cl-0CKFZZ9cs"
   },
   "source": [
    "Зачем нужно возвращать словарь в такой конструкции: `morph.normal_forms(token)[0]`? Ответ ниже."
   ]
  },
  {
   "cell_type": "code",
   "execution_count": null,
   "metadata": {
    "colab": {
     "base_uri": "https://localhost:8080/"
    },
    "id": "CdW7pm_lX5Rt",
    "outputId": "fbfdb3ed-16e1-4f6a-ce4f-acb52b1caaa9"
   },
   "outputs": [
    {
     "data": {
      "text/plain": [
       "['стать', 'сталь']"
      ]
     },
     "execution_count": 22,
     "metadata": {},
     "output_type": "execute_result"
    }
   ],
   "source": [
    "morph.normal_forms('стали')"
   ]
  },
  {
   "cell_type": "markdown",
   "metadata": {
    "id": "je5kur5hX5Ru"
   },
   "source": [
    "Обработаем все слова из датасета."
   ]
  },
  {
   "cell_type": "code",
   "execution_count": 17,
   "metadata": {
    "id": "_z0NGwleX5Ru",
    "ExecuteTime": {
     "end_time": "2024-03-18T17:05:13.755600Z",
     "start_time": "2024-03-18T17:05:06.545016Z"
    }
   },
   "outputs": [],
   "source": [
    "# лемматизируйте все слова из датасета\n",
    "sents_tokenize = [[morph.normal_forms(item)[0] for item in sent]\n",
    "                    for sent in sents_tokenize]"
   ]
  },
  {
   "cell_type": "code",
   "execution_count": 18,
   "metadata": {
    "id": "mOh4EV4DX5Ru",
    "ExecuteTime": {
     "end_time": "2024-03-18T17:05:32.799235Z",
     "start_time": "2024-03-18T17:05:32.789442Z"
    }
   },
   "outputs": [],
   "source": [
    "# Flatten без numpy :)\n",
    "words = [item for sent in  sents_tokenize for item in sent]"
   ]
  },
  {
   "cell_type": "code",
   "execution_count": 22,
   "metadata": {
    "colab": {
     "base_uri": "https://localhost:8080/"
    },
    "id": "ekL99qSoX5Rv",
    "outputId": "d899cd31-c4f0-45b6-88b3-da6002da6c2e",
    "ExecuteTime": {
     "end_time": "2024-03-17T06:37:18.886334Z",
     "start_time": "2024-03-17T06:37:18.878395Z"
    }
   },
   "outputs": [
    {
     "data": {
      "text/plain": "93069"
     },
     "execution_count": 22,
     "metadata": {},
     "output_type": "execute_result"
    }
   ],
   "source": [
    "len(words) # всего слов"
   ]
  },
  {
   "cell_type": "code",
   "execution_count": 23,
   "metadata": {
    "colab": {
     "base_uri": "https://localhost:8080/"
    },
    "id": "1gsF0hBGX5Rv",
    "outputId": "9b1a7ebd-4b50-489d-986d-910760ce5f3a",
    "ExecuteTime": {
     "end_time": "2024-03-17T06:37:21.534530Z",
     "start_time": "2024-03-17T06:37:21.514771Z"
    }
   },
   "outputs": [
    {
     "data": {
      "text/plain": "11083"
     },
     "execution_count": 23,
     "metadata": {},
     "output_type": "execute_result"
    }
   ],
   "source": [
    "len(set(words)) # уникальных слов"
   ]
  },
  {
   "cell_type": "markdown",
   "metadata": {
    "id": "ZLdPZ_nsX5Rw"
   },
   "source": [
    "Хватит обработок! Мы тут не анализом текстов занимаемся, а нейросетками. Если хочется больше предобработки, хороший мануал по [ссылке](https://nbviewer.jupyter.org/github/FUlyankin/hse_texts_do/blob/master/sem_1/texts_sem1.ipynb).  Давайте построим словарик с частотностями и перейдём к моделированию."
   ]
  },
  {
   "cell_type": "code",
   "execution_count": 19,
   "metadata": {
    "colab": {
     "base_uri": "https://localhost:8080/"
    },
    "id": "XydRhjpLX5Rw",
    "outputId": "deb54482-3a8c-4394-8008-68932a774ed2",
    "ExecuteTime": {
     "end_time": "2024-03-18T17:05:35.641470Z",
     "start_time": "2024-03-18T17:05:35.593787Z"
    }
   },
   "outputs": [
    {
     "data": {
      "text/plain": "[('это', 1449),\n ('всё', 963),\n ('знать', 630),\n ('раскольник', 567),\n ('свой', 549),\n ('один', 548),\n ('сказать', 544),\n ('говорить', 536),\n ('человек', 501),\n ('весь', 442),\n ('стать', 441),\n ('мочь', 441),\n ('который', 430),\n ('сам', 430),\n ('такой', 395),\n ('очень', 387),\n ('какой', 379),\n ('соня', 379),\n ('рука', 369),\n ('петрович', 369)]"
     },
     "execution_count": 19,
     "metadata": {},
     "output_type": "execute_result"
    }
   ],
   "source": [
    "from collections import Counter\n",
    "\n",
    "word_dict = Counter(words)\n",
    "word_dict.most_common()[:20]"
   ]
  },
  {
   "cell_type": "code",
   "execution_count": 20,
   "metadata": {
    "colab": {
     "base_uri": "https://localhost:8080/"
    },
    "id": "mb3M9rebIjzg",
    "outputId": "51a742b5-471b-4071-8c10-9066726533c5",
    "ExecuteTime": {
     "end_time": "2024-03-18T17:05:38.674930Z",
     "start_time": "2024-03-18T17:05:38.669861Z"
    }
   },
   "outputs": [
    {
     "name": "stdout",
     "output_type": "stream",
     "text": [
      "преступление\n"
     ]
    }
   ],
   "source": [
    "for item in words:\n",
    "  print(item)\n",
    "  break"
   ]
  },
  {
   "cell_type": "code",
   "execution_count": 26,
   "metadata": {
    "colab": {
     "base_uri": "https://localhost:8080/"
    },
    "id": "1Gx9vmAVX5Rx",
    "outputId": "813d66f0-e1ee-44b8-daf0-f57603f14528",
    "ExecuteTime": {
     "end_time": "2024-03-17T06:38:15.536436Z",
     "start_time": "2024-03-17T06:38:15.517559Z"
    }
   },
   "outputs": [
    {
     "data": {
      "text/plain": "4767"
     },
     "execution_count": 26,
     "metadata": {},
     "output_type": "execute_result"
    }
   ],
   "source": [
    "words = word_dict.most_common()\n",
    "len([item for item in words if item[1] >= 3])  # совсем мало :)"
   ]
  },
  {
   "cell_type": "markdown",
   "metadata": {
    "id": "wQPu4NRWX5Rx"
   },
   "source": [
    "## 2. Моделирование\n",
    "\n",
    "__Основные параметры:__\n",
    "\n",
    "* данные должны быть итерируемым объектом\n",
    "* `vector_size` — размер вектора,\n",
    "* `window` — размер окна наблюдения,\n",
    "* `min_count` — мин. частотность слова в корпусе,\n",
    "* `sg` — используемый алгоритм обучения (0 — CBOW, 1 — Skip-gram),\n",
    "* `sample` — порог для downsampling'a высокочастотных слов,\n",
    "* `workers` — количество потоков,\n",
    "* `alpha` — learning rate,\n",
    "* `epochs` — количество эпох обучения,\n",
    "* `max_vocab_size` — позволяет выставить ограничение по памяти при создании словаря (т.е. если ограничение привышается, то низкочастотные слова будут выбрасываться). Для сравнения: 10 млн слов = 1Гб RAM.\n",
    "\n",
    "\n",
    "**`gensim`** [documentation](https://radimrehurek.com/gensim/auto_examples/tutorials/run_word2vec.html#sphx-glr-auto-examples-tutorials-run-word2vec-py)\\\n",
    "[Нововведения](https://github.com/RaRe-Technologies/gensim/wiki/Migrating-from-Gensim-3.x-to-4) в **gensim 4.0**\n"
   ]
  },
  {
   "cell_type": "code",
   "execution_count": 28,
   "metadata": {
    "colab": {
     "base_uri": "https://localhost:8080/"
    },
    "id": "x2iURrtzD2nb",
    "outputId": "dae2e08c-248d-4e67-9647-acfd129bf94e",
    "ExecuteTime": {
     "end_time": "2024-03-17T06:40:19.477556Z",
     "start_time": "2024-03-17T06:40:10.277572Z"
    }
   },
   "outputs": [
    {
     "name": "stdout",
     "output_type": "stream",
     "text": [
      "Collecting gensim==4.3.2\r\n",
      "  Obtaining dependency information for gensim==4.3.2 from https://files.pythonhosted.org/packages/22/40/7d2cce3ad4ad5d02aa68e253e6ea5f0acc381f02f594e235fe00a274faff/gensim-4.3.2-cp311-cp311-manylinux_2_17_x86_64.manylinux2014_x86_64.whl.metadata\r\n",
      "  Downloading gensim-4.3.2-cp311-cp311-manylinux_2_17_x86_64.manylinux2014_x86_64.whl.metadata (8.3 kB)\r\n",
      "Requirement already satisfied: numpy>=1.18.5 in /home/malleo/anaconda3/lib/python3.11/site-packages (from gensim==4.3.2) (1.24.3)\r\n",
      "Requirement already satisfied: scipy>=1.7.0 in /home/malleo/anaconda3/lib/python3.11/site-packages (from gensim==4.3.2) (1.11.1)\r\n",
      "Requirement already satisfied: smart-open>=1.8.1 in /home/malleo/anaconda3/lib/python3.11/site-packages (from gensim==4.3.2) (5.2.1)\r\n",
      "Downloading gensim-4.3.2-cp311-cp311-manylinux_2_17_x86_64.manylinux2014_x86_64.whl (26.7 MB)\r\n",
      "\u001B[2K   \u001B[90m━━━━━━━━━━━━━━━━━━━━━━━━━━━━━━━━━━━━━━━━\u001B[0m \u001B[32m26.7/26.7 MB\u001B[0m \u001B[31m13.8 MB/s\u001B[0m eta \u001B[36m0:00:00\u001B[0m00:01\u001B[0m00:01\u001B[0m\r\n",
      "\u001B[?25hInstalling collected packages: gensim\r\n",
      "  Attempting uninstall: gensim\r\n",
      "    Found existing installation: gensim 4.3.0\r\n",
      "    Uninstalling gensim-4.3.0:\r\n",
      "      Successfully uninstalled gensim-4.3.0\r\n",
      "Successfully installed gensim-4.3.2\r\n"
     ]
    }
   ],
   "source": [
    "!pip install gensim==4.3.2"
   ]
  },
  {
   "cell_type": "code",
   "execution_count": 31,
   "metadata": {
    "colab": {
     "base_uri": "https://localhost:8080/"
    },
    "id": "B8w7ft6qHImx",
    "outputId": "ce6997d2-cf1a-4535-de80-8dcfa786f23b",
    "ExecuteTime": {
     "end_time": "2024-03-17T06:46:54.114808Z",
     "start_time": "2024-03-17T06:46:54.107560Z"
    }
   },
   "outputs": [
    {
     "data": {
      "text/plain": "(list, 13702)"
     },
     "execution_count": 31,
     "metadata": {},
     "output_type": "execute_result"
    }
   ],
   "source": [
    "type(sents_tokenize), len(sents_tokenize)\n",
    "# sents_tokenize[0][:5]"
   ]
  },
  {
   "cell_type": "code",
   "execution_count": 21,
   "metadata": {
    "id": "yaoWjIeVX5Ry",
    "ExecuteTime": {
     "end_time": "2024-03-18T17:06:25.150804Z",
     "start_time": "2024-03-18T17:06:24.040725Z"
    }
   },
   "outputs": [
    {
     "data": {
      "text/plain": "(0, 0)"
     },
     "execution_count": 21,
     "metadata": {},
     "output_type": "execute_result"
    }
   ],
   "source": [
    "##%%time\n",
    "from gensim.models.word2vec import Word2Vec\n",
    "\n",
    "# vector_size - размерность векторов, которые мы хотим обучить\n",
    "# window - ширина окна контекста\n",
    "# min_count - если слово встречается реже, для него не учим модель\n",
    "model = Word2Vec(vector_size=100, window=2, min_count=3, workers=-1)\n",
    "\n",
    "# строительство словаря, чтобы обучение шло быстрее\n",
    "model.build_vocab(sents_tokenize)\n",
    "\n",
    "# обучение модели (еще так можно модель дообучать)\n",
    "# первый аргумент - наша выборка, генератор будет вкидывать в модель наши тексты, пока они не кончатся\n",
    "# второй аргумент - число примеров в выборке\n",
    "# третий аргумент - количество эпох обучения: сколько раз модель пройдётся по всему корпусу текстов\n",
    "model.train(sents_tokenize, total_examples=model.corpus_count, epochs=100)\n",
    "\n",
    "# !NB в ситуации, когда у нас огромный корпус, 100 эпох это слишком много!"
   ]
  },
  {
   "cell_type": "markdown",
   "metadata": {
    "id": "Zq1EcW4hBFr2"
   },
   "source": [
    "Другой способ инициализировать и тренировать модель.\n",
    "\n",
    "Такой синтаксис под капотом точно так же строит словарь и вызывает метод `train`"
   ]
  },
  {
   "cell_type": "code",
   "execution_count": 33,
   "metadata": {
    "id": "uRvqvsADCzKc",
    "ExecuteTime": {
     "end_time": "2024-03-17T06:47:05.707042Z",
     "start_time": "2024-03-17T06:47:04.595324Z"
    }
   },
   "outputs": [
    {
     "name": "stdout",
     "output_type": "stream",
     "text": [
      "Word2Vec<vocab=4767, vector_size=100, alpha=0.025>\n"
     ]
    }
   ],
   "source": [
    "model2 = Word2Vec(sentences=sents_tokenize, vector_size=100, window=2, min_count=3, workers=-1, epochs=100)\n",
    "print(model2)"
   ]
  },
  {
   "cell_type": "code",
   "execution_count": null,
   "metadata": {
    "colab": {
     "base_uri": "https://localhost:8080/"
    },
    "id": "yIS2js9SX5Rz",
    "outputId": "0cc6cfd5-ef31-40f6-bde3-55a6329909ec"
   },
   "outputs": [
    {
     "data": {
      "text/plain": [
       "13565"
      ]
     },
     "execution_count": 33,
     "metadata": {},
     "output_type": "execute_result"
    }
   ],
   "source": [
    "model.corpus_count # число примеров в обучающей выборке"
   ]
  },
  {
   "cell_type": "markdown",
   "metadata": {
    "id": "uW7jOL7nX5R0"
   },
   "source": [
    "Смотрим, сколько в модели слов."
   ]
  },
  {
   "cell_type": "code",
   "execution_count": 35,
   "metadata": {
    "colab": {
     "base_uri": "https://localhost:8080/"
    },
    "id": "GBgsQhUTX5R0",
    "outputId": "11a18a35-aca6-4e62-a55a-92f94830ddc8",
    "ExecuteTime": {
     "end_time": "2024-03-17T06:48:16.112866Z",
     "start_time": "2024-03-17T06:48:16.103653Z"
    }
   },
   "outputs": [
    {
     "data": {
      "text/plain": "(4767, 4767)"
     },
     "execution_count": 35,
     "metadata": {},
     "output_type": "execute_result"
    }
   ],
   "source": [
    "len(model.wv), len(model2.wv)"
   ]
  },
  {
   "cell_type": "code",
   "execution_count": null,
   "metadata": {
    "id": "wLZ-2QHJG16V"
   },
   "outputs": [],
   "source": [
    "# model.wv.key_to_index"
   ]
  },
  {
   "cell_type": "code",
   "execution_count": 36,
   "metadata": {
    "colab": {
     "base_uri": "https://localhost:8080/"
    },
    "id": "iTK4qx5GX5R1",
    "outputId": "47d59093-df20-4caa-da07-7206700c9edc",
    "scrolled": true,
    "ExecuteTime": {
     "end_time": "2024-03-17T06:48:59.854691Z",
     "start_time": "2024-03-17T06:48:59.847374Z"
    }
   },
   "outputs": [
    {
     "data": {
      "text/plain": "(True, True)"
     },
     "execution_count": 36,
     "metadata": {},
     "output_type": "execute_result"
    }
   ],
   "source": [
    "'старуха' in model.wv.key_to_index, 'старуха' in model2.wv.key_to_index"
   ]
  },
  {
   "cell_type": "code",
   "execution_count": 37,
   "metadata": {
    "colab": {
     "base_uri": "https://localhost:8080/"
    },
    "id": "ddcNR0NBHI9a",
    "outputId": "cf522293-18f7-42a2-e486-51eb0d4ed392",
    "ExecuteTime": {
     "end_time": "2024-03-17T06:49:01.612676Z",
     "start_time": "2024-03-17T06:49:01.604978Z"
    }
   },
   "outputs": [
    {
     "data": {
      "text/plain": "(72, 72)"
     },
     "execution_count": 37,
     "metadata": {},
     "output_type": "execute_result"
    }
   ],
   "source": [
    "model.wv.get_vecattr(\"старуха\", \"count\"), model2.wv.get_vecattr(\"старуха\", \"count\")"
   ]
  },
  {
   "cell_type": "markdown",
   "metadata": {
    "id": "sXdJphMjX5R1"
   },
   "source": [
    "## 3. Свойства модели"
   ]
  },
  {
   "cell_type": "code",
   "execution_count": 38,
   "metadata": {
    "colab": {
     "base_uri": "https://localhost:8080/"
    },
    "id": "6xtM8EnnX5R1",
    "outputId": "068571c6-1e4c-450b-c8b5-60b3d5fcd757",
    "ExecuteTime": {
     "end_time": "2024-03-17T06:49:06.227776Z",
     "start_time": "2024-03-17T06:49:06.216655Z"
    }
   },
   "outputs": [
    {
     "data": {
      "text/plain": "(array([ 0.00158984, -0.00595314, -0.00605843,  0.00848177, -0.00034839,\n         0.00706192, -0.00888268, -0.00192542, -0.00676588, -0.0072364 ],\n       dtype=float32),\n array([ 0.00158984, -0.00595314, -0.00605843,  0.00848177, -0.00034839,\n         0.00706192, -0.00888268, -0.00192542, -0.00676588, -0.0072364 ],\n       dtype=float32))"
     },
     "execution_count": 38,
     "metadata": {},
     "output_type": "execute_result"
    }
   ],
   "source": [
    "# вектор слова\n",
    "model.wv['старуха'][:10], model2.wv['старуха'][:10]"
   ]
  },
  {
   "cell_type": "code",
   "execution_count": 39,
   "metadata": {
    "colab": {
     "base_uri": "https://localhost:8080/"
    },
    "id": "iuLiDIAKAHsX",
    "outputId": "27bdb909-9bdc-4ea2-cb1b-5e6d91485f98",
    "ExecuteTime": {
     "end_time": "2024-03-17T06:49:13.451001Z",
     "start_time": "2024-03-17T06:49:13.441538Z"
    }
   },
   "outputs": [
    {
     "data": {
      "text/plain": "array([ 0.00158984, -0.00595314, -0.00605843,  0.00848177, -0.00034839,\n        0.00706192, -0.00888268, -0.00192542, -0.00676588, -0.0072364 ,\n       -0.00636767, -0.00366342,  0.00985412,  0.00071263, -0.00128986,\n       -0.00021196,  0.00220028,  0.00328956,  0.00056633, -0.00689849,\n       -0.00637836,  0.00246468,  0.0023111 ,  0.00327677,  0.00687588,\n        0.0021893 , -0.00301268, -0.00315087,  0.00223726,  0.00897257,\n       -0.0030497 , -0.00802446,  0.00619691,  0.00513785, -0.00568808,\n       -0.00177443,  0.0082801 ,  0.00772546,  0.00053458, -0.0071188 ,\n        0.00630224,  0.00835171,  0.00552652, -0.00818296,  0.00981974,\n       -0.00156873,  0.00952912, -0.00775152, -0.00391438,  0.00845072,\n        0.00804317, -0.00385863,  0.00980804,  0.0012557 , -0.00509944,\n        0.00886316, -0.00389039,  0.00057222, -0.00033299, -0.00965943,\n        0.0079309 ,  0.00577724,  0.00411733, -0.00939196,  0.00927838,\n       -0.00347454,  0.00825144, -0.0055795 ,  0.00483983, -0.00482973,\n        0.00187134, -0.00469794,  0.00712637,  0.00555019,  0.00779571,\n       -0.00132433,  0.0071586 , -0.00376419,  0.00564634, -0.0042933 ,\n        0.00559307,  0.00410454, -0.00544727,  0.00486349,  0.00813275,\n        0.00020927, -0.00933915,  0.0046928 , -0.00264563,  0.00730221,\n        0.00999308, -0.0003604 ,  0.00457006, -0.00554922, -0.00688477,\n        0.00778109,  0.0055907 ,  0.00760146, -0.00591434, -0.00041492],\n      dtype=float32)"
     },
     "execution_count": 39,
     "metadata": {},
     "output_type": "execute_result"
    }
   ],
   "source": [
    "model.wv['старуха']"
   ]
  },
  {
   "cell_type": "code",
   "execution_count": 40,
   "metadata": {
    "colab": {
     "base_uri": "https://localhost:8080/"
    },
    "id": "2cZllQCYIB2d",
    "outputId": "24b1e0bc-8c84-4229-9439-2ca68004e5b8",
    "ExecuteTime": {
     "end_time": "2024-03-17T06:50:25.468697Z",
     "start_time": "2024-03-17T06:50:25.462194Z"
    }
   },
   "outputs": [
    {
     "data": {
      "text/plain": "100"
     },
     "execution_count": 40,
     "metadata": {},
     "output_type": "execute_result"
    }
   ],
   "source": [
    "len(model.wv['старуха'])"
   ]
  },
  {
   "cell_type": "code",
   "execution_count": 41,
   "metadata": {
    "colab": {
     "base_uri": "https://localhost:8080/"
    },
    "id": "_5CVjMM-X5R2",
    "outputId": "f90240c9-9a5b-4511-b0c5-3d5deeb8b1c8",
    "ExecuteTime": {
     "end_time": "2024-03-17T06:50:29.739088Z",
     "start_time": "2024-03-17T06:50:29.728009Z"
    }
   },
   "outputs": [
    {
     "data": {
      "text/plain": "((100,), (100,))"
     },
     "execution_count": 41,
     "metadata": {},
     "output_type": "execute_result"
    }
   ],
   "source": [
    "# размерность вектора\n",
    "model.wv['старуха'].shape, model2.wv['старуха'].shape"
   ]
  },
  {
   "cell_type": "code",
   "execution_count": 42,
   "metadata": {
    "colab": {
     "base_uri": "https://localhost:8080/"
    },
    "id": "LK6MminRX5R4",
    "outputId": "ac41c124-6d0f-4d92-ff49-af2ff8715cf2",
    "ExecuteTime": {
     "end_time": "2024-03-17T06:50:41.912757Z",
     "start_time": "2024-03-17T06:50:41.903319Z"
    }
   },
   "outputs": [
    {
     "data": {
      "text/plain": "(-0.03793419, -0.03793419)"
     },
     "execution_count": 42,
     "metadata": {},
     "output_type": "execute_result"
    }
   ],
   "source": [
    "# похожести слов\n",
    "model.wv.similarity('тварь', 'право'), model2.wv.similarity('тварь', 'право')"
   ]
  },
  {
   "cell_type": "code",
   "execution_count": 43,
   "metadata": {
    "colab": {
     "base_uri": "https://localhost:8080/"
    },
    "id": "N4V7_I3MX5R4",
    "outputId": "57698499-0955-47c6-bb06-451bca9bea9a",
    "ExecuteTime": {
     "end_time": "2024-03-17T06:51:04.875358Z",
     "start_time": "2024-03-17T06:51:04.811299Z"
    }
   },
   "outputs": [
    {
     "data": {
      "text/plain": "[('добродушный', 0.35238102078437805),\n ('пренебрегать', 0.32258936762809753),\n ('крикнуть', 0.3088306188583374),\n ('доказательство', 0.2879015803337097),\n ('бред', 0.2792375683784485),\n ('посредством', 0.27730658650398254),\n ('такой', 0.27664443850517273),\n ('ровно', 0.2752732038497925),\n ('пообедать', 0.273645281791687),\n ('навзрыд', 0.2704673409461975)]"
     },
     "execution_count": 43,
     "metadata": {},
     "output_type": "execute_result"
    }
   ],
   "source": [
    "# самые похожие\n",
    "model.wv.most_similar('тварь', topn=10)"
   ]
  },
  {
   "cell_type": "code",
   "execution_count": 44,
   "metadata": {
    "colab": {
     "base_uri": "https://localhost:8080/"
    },
    "id": "J4dcfSNjX5R5",
    "outputId": "7a21450f-8eef-476b-91df-ad7b48f141a1",
    "ExecuteTime": {
     "end_time": "2024-03-17T06:51:38.752131Z",
     "start_time": "2024-03-17T06:51:38.742531Z"
    }
   },
   "outputs": [
    {
     "data": {
      "text/plain": "[('нуждаться', 0.3254741132259369),\n ('раздражать', 0.31844109296798706),\n ('выжиг', 0.31684333086013794),\n ('холодеть', 0.30329668521881104),\n ('резать', 0.29883095622062683),\n ('чашка', 0.29052457213401794),\n ('вырываться', 0.2874678075313568),\n ('провинция', 0.2853025794029236),\n ('посматривать', 0.2818695902824402),\n ('несчастие', 0.2812053859233856)]"
     },
     "execution_count": 44,
     "metadata": {},
     "output_type": "execute_result"
    }
   ],
   "source": [
    "# арифметика\n",
    "model.wv.most_similar(positive=['раскольников','соня'],\n",
    "                       negative=['тварь'])[:10]"
   ]
  },
  {
   "cell_type": "markdown",
   "metadata": {
    "id": "kgusruzJUXdF"
   },
   "source": [
    "### KeyedVectors\n",
    "\n",
    "**TL;DR:** the main difference is that KeyedVectors do not support further training. On the other hand, by shedding the internal data structures necessary for training, KeyedVectors offer a smaller RAM footprint and a simpler interface.\n",
    "\n",
    "[Source](https://radimrehurek.com/gensim/models/keyedvectors.html#)\n",
    "\n",
    "\n",
    "По сути, KeyedVectors нужны для экономии места на диске при сохранении модели"
   ]
  },
  {
   "cell_type": "code",
   "execution_count": null,
   "metadata": {
    "id": "7IKn1YaJIrPA"
   },
   "outputs": [],
   "source": [
    "#model.save('aaaaa')\n",
    "\n",
    "#tmp = Word2Vec.load('aaaaa')\n",
    "# model.wv.save(\"word2vec.bbb\")"
   ]
  },
  {
   "cell_type": "code",
   "execution_count": 45,
   "metadata": {
    "colab": {
     "base_uri": "https://localhost:8080/"
    },
    "id": "S_jXHBcBQDzu",
    "outputId": "a64149f6-6c87-4973-f9b3-91ca14f5f6e1",
    "ExecuteTime": {
     "end_time": "2024-03-17T06:54:18.133449Z",
     "start_time": "2024-03-17T06:54:18.106682Z"
    }
   },
   "outputs": [
    {
     "data": {
      "text/plain": "((100,),\n array([ 0.0006687 ,  0.00648878,  0.00587001, -0.00017738,  0.0023801 ,\n        -0.00651387, -0.00936036, -0.00494762, -0.00538789,  0.00058703,\n        -0.00396823, -0.00036959,  0.00763455,  0.00973569,  0.00787588,\n         0.00238922, -0.00271333,  0.00243172, -0.00268992, -0.00895014,\n         0.00689304, -0.00864854,  0.00378768, -0.00395623, -0.00554306,\n        -0.00104358, -0.00656298,  0.00858411, -0.00687793, -0.00896055,\n         0.00576626,  0.00446401,  0.00473146,  0.00242694, -0.00372551,\n        -0.0051173 ,  0.00177215,  0.00834657, -0.00565228, -0.00238244,\n         0.00184836,  0.00672219, -0.0063974 , -0.00452775, -0.00263857,\n         0.00133483,  0.00537128,  0.00554937, -0.0087095 ,  0.00727261,\n        -0.00250222, -0.00284264, -0.00885856, -0.00577508,  0.00944861,\n         0.00308753, -0.00804277,  0.0028074 , -0.00707276, -0.00905789,\n         0.00386578,  0.00203697,  0.00125465,  0.00884633,  0.0062607 ,\n        -0.00507063,  0.00272783,  0.0025451 ,  0.00239783,  0.00833306,\n        -0.00691342, -0.00229943,  0.00100895,  0.00637776, -0.00064873,\n         0.00792812, -0.00465192, -0.0090314 , -0.0070541 , -0.00413769,\n         0.0095833 , -0.00512727, -0.00484836,  0.00817348, -0.00745618,\n         0.00200976,  0.00571604, -0.00753034, -0.00026298, -0.00236819,\n         0.00556562, -0.00456045, -0.00660479,  0.00989174, -0.00462315,\n         0.00760426, -0.00845476,  0.00701734, -0.00338977, -0.00781486],\n       dtype=float32))"
     },
     "execution_count": 45,
     "metadata": {},
     "output_type": "execute_result"
    }
   ],
   "source": [
    "from gensim.models import KeyedVectors\n",
    "\n",
    "# Store just the words + their trained embeddings.\n",
    "word_vectors = model.wv\n",
    "word_vectors.save(\"word2vec.wordvectors\")\n",
    "\n",
    "# Load back with memory-mapping = read-only, shared across processes.\n",
    "wv = KeyedVectors.load(\"word2vec.wordvectors\", mmap='r')\n",
    "\n",
    "vector = wv['раскольников']  # Get numpy vector of a word\n",
    "vector.shape, vector"
   ]
  },
  {
   "cell_type": "code",
   "execution_count": null,
   "metadata": {
    "id": "u3pnv_zK9c0F"
   },
   "outputs": [],
   "source": []
  },
  {
   "cell_type": "markdown",
   "metadata": {
    "id": "9QB6I0hjid8b"
   },
   "source": [
    "# Применим полученные выше навыки и решим простую задачу анализа тональности твиттов:\n",
    "\n",
    "Проделаем весь пайплайн от сырых текстов до получения обученной модели.\n",
    "Отдельно скачиваем файлы с положительно окрашенными твитами и негативно окрашеннными.\n",
    "Это реальные данные русскоязычного сегмента твиттера.\n"
   ]
  },
  {
   "cell_type": "code",
   "execution_count": 48,
   "metadata": {
    "colab": {
     "base_uri": "https://localhost:8080/"
    },
    "id": "ug3LcwRyKF0l",
    "outputId": "bc52dcab-6bf0-4436-e5d8-5a9756a413f4",
    "ExecuteTime": {
     "end_time": "2024-03-17T06:59:49.835995Z",
     "start_time": "2024-03-17T06:59:49.744162Z"
    }
   },
   "outputs": [],
   "source": [
    "# from google.colab import drive\n",
    "# drive.mount('/content/drive')\n",
    "import pandas as pd\n",
    "tweets = pd.read_csv('rusentitweet_full.csv')"
   ]
  },
  {
   "cell_type": "code",
   "execution_count": null,
   "metadata": {
    "id": "HSzVZF3bX-s3"
   },
   "outputs": [],
   "source": [
    "# !wget -O positive.csv https://www.dropbox.com/s/fnpq3z4bcnoktiv/positive.csv?dl=0"
   ]
  },
  {
   "cell_type": "code",
   "execution_count": null,
   "metadata": {
    "id": "O6TgB-uEbPX3"
   },
   "outputs": [],
   "source": [
    "# ! head positive.csv"
   ]
  },
  {
   "cell_type": "code",
   "execution_count": null,
   "metadata": {
    "id": "yVDNoIcuX-s5"
   },
   "outputs": [],
   "source": [
    "# !wget -O negative.csv https://www.dropbox.com/s/r6u59ljhhjdg6j0/negative.csv?dl=0"
   ]
  },
  {
   "cell_type": "code",
   "execution_count": null,
   "metadata": {
    "id": "LI7bEzZ_bTUR"
   },
   "outputs": [],
   "source": [
    "# ! head negative.csv"
   ]
  },
  {
   "cell_type": "markdown",
   "metadata": {
    "id": "zjDC5G90ir7U"
   },
   "source": [
    "Загрузим и посмотрим на наш датасет:"
   ]
  },
  {
   "cell_type": "code",
   "execution_count": 50,
   "metadata": {
    "colab": {
     "base_uri": "https://localhost:8080/",
     "height": 262
    },
    "id": "1VttiuibKWuq",
    "outputId": "dca79454-dd8e-4000-b412-61a3adf49087",
    "ExecuteTime": {
     "end_time": "2024-03-17T07:00:24.847390Z",
     "start_time": "2024-03-17T07:00:24.821483Z"
    }
   },
   "outputs": [
    {
     "data": {
      "text/plain": "    Unnamed: 0                                               text     label  \\\n8            8                   @BTS_twt ты такой красивый 😭😭😭🥺💓  positive   \n11          11  @okdaa @wifeyoonminn @Y_Yoon_ Но ты очень крас...  positive   \n13          13                            @Susanoo51489064 ВХВХВХ  positive   \n18          18                @yoursungshine малышка спи сладко ❤  positive   \n23          23     как же я люблю титьки  https://t.co/C2M8rMDFyc  positive   \n\n                     id  \n8   1281551551706865665  \n11  1236273859671834624  \n13  1289926968608264193  \n18  1338933271082770433  \n23  1218926151227318272  ",
      "text/html": "<div>\n<style scoped>\n    .dataframe tbody tr th:only-of-type {\n        vertical-align: middle;\n    }\n\n    .dataframe tbody tr th {\n        vertical-align: top;\n    }\n\n    .dataframe thead th {\n        text-align: right;\n    }\n</style>\n<table border=\"1\" class=\"dataframe\">\n  <thead>\n    <tr style=\"text-align: right;\">\n      <th></th>\n      <th>Unnamed: 0</th>\n      <th>text</th>\n      <th>label</th>\n      <th>id</th>\n    </tr>\n  </thead>\n  <tbody>\n    <tr>\n      <th>8</th>\n      <td>8</td>\n      <td>@BTS_twt ты такой красивый 😭😭😭🥺💓</td>\n      <td>positive</td>\n      <td>1281551551706865665</td>\n    </tr>\n    <tr>\n      <th>11</th>\n      <td>11</td>\n      <td>@okdaa @wifeyoonminn @Y_Yoon_ Но ты очень крас...</td>\n      <td>positive</td>\n      <td>1236273859671834624</td>\n    </tr>\n    <tr>\n      <th>13</th>\n      <td>13</td>\n      <td>@Susanoo51489064 ВХВХВХ</td>\n      <td>positive</td>\n      <td>1289926968608264193</td>\n    </tr>\n    <tr>\n      <th>18</th>\n      <td>18</td>\n      <td>@yoursungshine малышка спи сладко ❤</td>\n      <td>positive</td>\n      <td>1338933271082770433</td>\n    </tr>\n    <tr>\n      <th>23</th>\n      <td>23</td>\n      <td>как же я люблю титьки  https://t.co/C2M8rMDFyc</td>\n      <td>positive</td>\n      <td>1218926151227318272</td>\n    </tr>\n  </tbody>\n</table>\n</div>"
     },
     "execution_count": 50,
     "metadata": {},
     "output_type": "execute_result"
    }
   ],
   "source": [
    "# tweets.loc[tweets['label'] == 'positive']\n",
    "positive = tweets.loc[tweets['label'] == 'positive']\n",
    "\n",
    "\n",
    "negative = tweets.loc[tweets['label'] == 'negative']\n",
    "df = pd.concat([positive, negative])\n",
    "df.head()"
   ]
  },
  {
   "cell_type": "code",
   "execution_count": 51,
   "metadata": {
    "colab": {
     "base_uri": "https://localhost:8080/",
     "height": 206
    },
    "id": "kMf0hR4kKl2a",
    "outputId": "5181e873-ad8f-45ff-ae35-6f5c7b77c7a1",
    "ExecuteTime": {
     "end_time": "2024-03-17T07:00:29.554130Z",
     "start_time": "2024-03-17T07:00:29.543033Z"
    }
   },
   "outputs": [
    {
     "data": {
      "text/plain": "                                                    text     label\n12028  За окном снова дождь. Заебал, мы скоро уплывем...  negative\n1771    @chikibammasha Это звучит как идея для видео 🤣🤣🤣  positive\n11849  @niemalsnoch @veritas_z ну кто ты и кто залина...  negative\n10670                       @Zefirni_chel ГОСПОДИ, ДА!!!  positive\n13134         @kpru Ковид его забери и в Аду его задержи  negative",
      "text/html": "<div>\n<style scoped>\n    .dataframe tbody tr th:only-of-type {\n        vertical-align: middle;\n    }\n\n    .dataframe tbody tr th {\n        vertical-align: top;\n    }\n\n    .dataframe thead th {\n        text-align: right;\n    }\n</style>\n<table border=\"1\" class=\"dataframe\">\n  <thead>\n    <tr style=\"text-align: right;\">\n      <th></th>\n      <th>text</th>\n      <th>label</th>\n    </tr>\n  </thead>\n  <tbody>\n    <tr>\n      <th>12028</th>\n      <td>За окном снова дождь. Заебал, мы скоро уплывем...</td>\n      <td>negative</td>\n    </tr>\n    <tr>\n      <th>1771</th>\n      <td>@chikibammasha Это звучит как идея для видео 🤣🤣🤣</td>\n      <td>positive</td>\n    </tr>\n    <tr>\n      <th>11849</th>\n      <td>@niemalsnoch @veritas_z ну кто ты и кто залина...</td>\n      <td>negative</td>\n    </tr>\n    <tr>\n      <th>10670</th>\n      <td>@Zefirni_chel ГОСПОДИ, ДА!!!</td>\n      <td>positive</td>\n    </tr>\n    <tr>\n      <th>13134</th>\n      <td>@kpru Ковид его забери и в Аду его задержи</td>\n      <td>negative</td>\n    </tr>\n  </tbody>\n</table>\n</div>"
     },
     "execution_count": 51,
     "metadata": {},
     "output_type": "execute_result"
    }
   ],
   "source": [
    "df.drop(columns=['id'], inplace=True)\n",
    "df = df.loc[:, ~df.columns.str.contains('^Unnamed')]\n",
    "df.sample(5, random_state=40)"
   ]
  },
  {
   "cell_type": "code",
   "execution_count": null,
   "metadata": {
    "id": "HLidtYsuX-s8"
   },
   "outputs": [],
   "source": [
    "# import pandas as pd\n",
    "\n",
    "# загружаем положительные твитты\n",
    "# positive = pd.read_csv('positive.csv', sep=';', usecols=[3], names=['text'])\n",
    "# # расставляем метки\n",
    "# positive['label'] = ['positive'] * len(positive)\n",
    "\n",
    "# # загружаем отрицательные твитты\n",
    "# negative = pd.read_csv('negative.csv', sep=';', usecols=[3], names=['text'])\n",
    "# # расставляем метки\n",
    "# negative['label'] = ['negative'] * len(negative)\n",
    "\n",
    "# # соединяем два набора данных\n",
    "# df = positive.append(negative)\n",
    "# df.head()"
   ]
  },
  {
   "cell_type": "code",
   "execution_count": 52,
   "metadata": {
    "colab": {
     "base_uri": "https://localhost:8080/"
    },
    "id": "to9mzoYkKxrD",
    "outputId": "f3233f0f-4211-4e16-85bb-413790953b3f",
    "ExecuteTime": {
     "end_time": "2024-03-17T07:00:48.457405Z",
     "start_time": "2024-03-17T07:00:48.452088Z"
    }
   },
   "outputs": [
    {
     "data": {
      "text/plain": "5712"
     },
     "execution_count": 52,
     "metadata": {},
     "output_type": "execute_result"
    }
   ],
   "source": [
    "len(df)"
   ]
  },
  {
   "cell_type": "markdown",
   "metadata": {
    "id": "ZnoUTqEpldRk"
   },
   "source": [
    "Возьмём только небольшой кусок датасета, чтобы долго не ждать выполнения препроцессинга и обучения модели:"
   ]
  },
  {
   "cell_type": "code",
   "execution_count": null,
   "metadata": {
    "id": "iHKztd6ukw4N"
   },
   "outputs": [],
   "source": [
    "# df = df.sample(frac=0.05).reset_index(drop=True)"
   ]
  },
  {
   "cell_type": "markdown",
   "metadata": {
    "id": "5jtZR-uYX-tA"
   },
   "source": [
    "Проведем стандартный препроцессинг:"
   ]
  },
  {
   "cell_type": "code",
   "execution_count": null,
   "metadata": {
    "colab": {
     "base_uri": "https://localhost:8080/"
    },
    "id": "sI706u75jFdq",
    "outputId": "56e25447-752e-4fe1-ab8e-0ca7d22e701b"
   },
   "outputs": [
    {
     "name": "stdout",
     "output_type": "stream",
     "text": [
      "Looking in indexes: https://pypi.org/simple, https://us-python.pkg.dev/colab-wheels/public/simple/\n",
      "Requirement already satisfied: pymorphy2 in /usr/local/lib/python3.10/dist-packages (0.9.1)\n",
      "Requirement already satisfied: dawg-python>=0.7.1 in /usr/local/lib/python3.10/dist-packages (from pymorphy2) (0.7.2)\n",
      "Requirement already satisfied: pymorphy2-dicts-ru<3.0,>=2.4 in /usr/local/lib/python3.10/dist-packages (from pymorphy2) (2.4.417127.4579844)\n",
      "Requirement already satisfied: docopt>=0.6 in /usr/local/lib/python3.10/dist-packages (from pymorphy2) (0.6.2)\n"
     ]
    }
   ],
   "source": [
    "! pip install pymorphy2"
   ]
  },
  {
   "cell_type": "code",
   "execution_count": 53,
   "metadata": {
    "id": "3qAiiLvsX-tB",
    "ExecuteTime": {
     "end_time": "2024-03-17T07:01:41.425719Z",
     "start_time": "2024-03-17T07:01:41.350349Z"
    }
   },
   "outputs": [],
   "source": [
    "import pymorphy3\n",
    "from functools import lru_cache\n",
    "from multiprocessing import Pool\n",
    "import numpy as np\n",
    "from sklearn.model_selection import train_test_split\n",
    "from tqdm import tqdm_notebook as tqdm\n",
    "import re\n",
    "\n",
    "# pymorphy2 - библиотека методов для морфологического анализа (в том числе лемматизации) русскоязычного текста\n",
    "m = pymorphy3.MorphAnalyzer()\n",
    "\n",
    "# убираем все небуквенные символы\n",
    "regex = re.compile(\"[А-Яа-я:=!\\)\\()A-z\\_\\%/|]+\")\n",
    "\n",
    "def words_only(text, regex=regex):\n",
    "    try:\n",
    "        return regex.findall(text)\n",
    "    except:\n",
    "        return []"
   ]
  },
  {
   "cell_type": "code",
   "execution_count": 55,
   "metadata": {
    "id": "9zakhvVrX-tC",
    "ExecuteTime": {
     "end_time": "2024-03-17T07:03:01.437788Z",
     "start_time": "2024-03-17T07:03:01.431120Z"
    }
   },
   "outputs": [],
   "source": [
    "#@lru_cache(maxsize=128)\n",
    "# если вы работаете не колабе, можно заменить pymorphy на mystem и раскомментирвать первую строку про lru_cache\n",
    "def lemmatize(text, pymorphy=m):\n",
    "    try:\n",
    "        return \" \".join([pymorphy.parse(w)[0].normal_form for w in text])\n",
    "    except:\n",
    "        return \" \""
   ]
  },
  {
   "cell_type": "code",
   "execution_count": 56,
   "metadata": {
    "id": "nDQdq4MLX-tE",
    "ExecuteTime": {
     "end_time": "2024-03-17T07:03:02.774400Z",
     "start_time": "2024-03-17T07:03:02.769336Z"
    }
   },
   "outputs": [],
   "source": [
    "def clean_text(text):\n",
    "    return lemmatize(words_only(text))"
   ]
  },
  {
   "cell_type": "code",
   "execution_count": 57,
   "metadata": {
    "colab": {
     "base_uri": "https://localhost:8080/",
     "height": 292,
     "referenced_widgets": [
      "7bf1f24c246e4b2aa93d02f69cc904bf",
      "4592e779359a42f9bd19ee3dadd0d35f",
      "40935ab6c6c54c5ca1031800d823be8a",
      "b88c35aac4ca448b97e8c94ce9f59143",
      "53b79123251d40b9b26eca91bf178be6",
      "c981ca97a39846c8be297dabb20b8664",
      "13207432a81944e490f5ca0e7a8da1b0",
      "4ea37de5a410432bb4a889ce4abbe4e6",
      "7debc25779d24448b55c5f8d6f4bd297",
      "383cecd7ba964cc1a5757033bedc1b97",
      "49b95e258b984aebaa66751df40496f9"
     ]
    },
    "id": "fj6dS127X-tG",
    "outputId": "132da56f-8292-4939-8c1b-54494a9016ca",
    "ExecuteTime": {
     "end_time": "2024-03-17T07:03:05.330171Z",
     "start_time": "2024-03-17T07:03:04.234656Z"
    }
   },
   "outputs": [
    {
     "name": "stderr",
     "output_type": "stream",
     "text": [
      "/tmp/ipykernel_7038/3057299198.py:4: TqdmDeprecationWarning: This function will be removed in tqdm==5.0.0\n",
      "Please use `tqdm.notebook.tqdm` instead of `tqdm.tqdm_notebook`\n",
      "  lemmas = list(tqdm(p.imap(clean_text, df['text']), total=len(df)))\n"
     ]
    },
    {
     "data": {
      "text/plain": "  0%|          | 0/5712 [00:00<?, ?it/s]",
      "application/vnd.jupyter.widget-view+json": {
       "version_major": 2,
       "version_minor": 0,
       "model_id": "8ae63dce34c348ecb2d60fef1dae7872"
      }
     },
     "metadata": {},
     "output_type": "display_data"
    },
    {
     "data": {
      "text/plain": "                                                 text     label  \\\n8                    @BTS_twt ты такой красивый 😭😭😭🥺💓  positive   \n11  @okdaa @wifeyoonminn @Y_Yoon_ Но ты очень крас...  positive   \n13                            @Susanoo51489064 ВХВХВХ  positive   \n18                @yoursungshine малышка спи сладко ❤  positive   \n23     как же я люблю титьки  https://t.co/C2M8rMDFyc  positive   \n\n                                               lemmas  \n8                           bts_twt ты такой красивый  \n11  okdaa wifeyoonminn y_yoon_ но ты очень красиво...  \n13                                    susanoo вхвхвха  \n18                 yoursungshine малышка спать сладко  \n23     как же я любить титька https://t co/c m rmdfyc  ",
      "text/html": "<div>\n<style scoped>\n    .dataframe tbody tr th:only-of-type {\n        vertical-align: middle;\n    }\n\n    .dataframe tbody tr th {\n        vertical-align: top;\n    }\n\n    .dataframe thead th {\n        text-align: right;\n    }\n</style>\n<table border=\"1\" class=\"dataframe\">\n  <thead>\n    <tr style=\"text-align: right;\">\n      <th></th>\n      <th>text</th>\n      <th>label</th>\n      <th>lemmas</th>\n    </tr>\n  </thead>\n  <tbody>\n    <tr>\n      <th>8</th>\n      <td>@BTS_twt ты такой красивый 😭😭😭🥺💓</td>\n      <td>positive</td>\n      <td>bts_twt ты такой красивый</td>\n    </tr>\n    <tr>\n      <th>11</th>\n      <td>@okdaa @wifeyoonminn @Y_Yoon_ Но ты очень крас...</td>\n      <td>positive</td>\n      <td>okdaa wifeyoonminn y_yoon_ но ты очень красиво...</td>\n    </tr>\n    <tr>\n      <th>13</th>\n      <td>@Susanoo51489064 ВХВХВХ</td>\n      <td>positive</td>\n      <td>susanoo вхвхвха</td>\n    </tr>\n    <tr>\n      <th>18</th>\n      <td>@yoursungshine малышка спи сладко ❤</td>\n      <td>positive</td>\n      <td>yoursungshine малышка спать сладко</td>\n    </tr>\n    <tr>\n      <th>23</th>\n      <td>как же я люблю титьки  https://t.co/C2M8rMDFyc</td>\n      <td>positive</td>\n      <td>как же я любить титька https://t co/c m rmdfyc</td>\n    </tr>\n  </tbody>\n</table>\n</div>"
     },
     "execution_count": 57,
     "metadata": {},
     "output_type": "execute_result"
    }
   ],
   "source": [
    "# распараллелим процесс на 8 копий, чтобы ускорить,\n",
    "# и к каждому объекту датасета ( = твиту) применим написанную выше функцию препроцессинга\n",
    "with Pool(8) as p:\n",
    "    lemmas = list(tqdm(p.imap(clean_text, df['text']), total=len(df)))\n",
    "\n",
    "df['lemmas'] = lemmas\n",
    "df.head()"
   ]
  },
  {
   "cell_type": "markdown",
   "metadata": {
    "id": "3QuPeLrvX-tI"
   },
   "source": [
    "Запишем полученные данные в формате для обучения классификатора:"
   ]
  },
  {
   "cell_type": "code",
   "execution_count": 58,
   "metadata": {
    "colab": {
     "base_uri": "https://localhost:8080/"
    },
    "id": "AGOFQSekX-tI",
    "outputId": "129a3573-2e12-431b-accd-0e7dbe1fa777",
    "ExecuteTime": {
     "end_time": "2024-03-17T07:05:27.219076Z",
     "start_time": "2024-03-17T07:05:27.201161Z"
    }
   },
   "outputs": [
    {
     "name": "stdout",
     "output_type": "stream",
     "text": [
      "total train examples 3827\n",
      "total test examples 1885\n"
     ]
    }
   ],
   "source": [
    "# переводим данные из датафрейма в списки\n",
    "X = df.lemmas.tolist()\n",
    "y = df.label.tolist()\n",
    "\n",
    "X, y = np.array(X), np.array(y)\n",
    "\n",
    "# разбиваем на обучающую и тестовую выборки\n",
    "X_train, X_test, y_train, y_test = train_test_split(X,y, test_size=0.33)\n",
    "print (\"total train examples %s\" % len(y_train))\n",
    "print (\"total test examples %s\" % len(y_test))"
   ]
  },
  {
   "cell_type": "markdown",
   "metadata": {
    "id": "hgUD2OIGjXOm"
   },
   "source": [
    "FastText можно использовать для решения задачи классификации, ей нужно подать данные на вход в особенном формате: текстовый файл, в котором одна строка — один объект выборки, в формате:\n",
    "\n",
    "```txt\n",
    "__label__<label_name_1>  text_1\n",
    "...\n",
    "__label__<label_name_n>  text_n\n",
    "```"
   ]
  },
  {
   "cell_type": "markdown",
   "metadata": {
    "id": "OLH8CcdgjZrJ"
   },
   "source": [
    "Записываем train и test выборки в файлы в соответствии с форматом выше:"
   ]
  },
  {
   "cell_type": "code",
   "execution_count": 59,
   "metadata": {
    "id": "mogTwRfnX-tK",
    "ExecuteTime": {
     "end_time": "2024-03-17T07:05:39.288933Z",
     "start_time": "2024-03-17T07:05:39.243492Z"
    }
   },
   "outputs": [],
   "source": [
    "with open('data.train.txt', 'w+') as outfile:\n",
    "    for i in range(len(X_train)):\n",
    "        outfile.write('__label__' + y_train[i] + ' '+ X_train[i] + '\\n')\n",
    "\n",
    "with open('test.txt', 'w+') as outfile:\n",
    "    for i in range(len(X_test)):\n",
    "        outfile.write('__label__' + y_test[i] + ' ' + X_test[i] + '\\n')"
   ]
  },
  {
   "cell_type": "markdown",
   "metadata": {
    "id": "3AbQadTikA8D"
   },
   "source": [
    "Обучаем классификатор FastText:"
   ]
  },
  {
   "cell_type": "code",
   "execution_count": 60,
   "metadata": {
    "colab": {
     "base_uri": "https://localhost:8080/"
    },
    "id": "6zcgcoeR-Tqf",
    "outputId": "9168c8e5-3cdd-4729-99d6-ca4175be2660",
    "ExecuteTime": {
     "end_time": "2024-03-17T07:07:40.069615Z",
     "start_time": "2024-03-17T07:06:44.851970Z"
    }
   },
   "outputs": [
    {
     "name": "stdout",
     "output_type": "stream",
     "text": [
      "Cloning into 'fastText'...\r\n",
      "remote: Enumerating objects: 3998, done.\u001B[K\r\n",
      "remote: Counting objects: 100% (1057/1057), done.\u001B[K\r\n",
      "remote: Compressing objects: 100% (189/189), done.\u001B[K\r\n",
      "remote: Total 3998 (delta 925), reused 892 (delta 863), pack-reused 2941\u001B[Kects:  25% (1018/3998), 2.94 MiB | 569.00 KiB/sReceiving objects:  27% (1080/3998), 3.66 MiB | 695.00 KiB/sReceiving objects:  32% (1280/3998), 3.66 MiB | 695.00 KiB/sReceiving objects:  37% (1480/3998), 3.66 MiB | 695.00 KiB/sReceiving objects:  38% (1520/3998), 6.36 MiB | 1.21 MiB/sReceiving objects:  42% (1680/3998), 6.36 MiB | 1.21 MiB/sReceiving objects:  47% (1880/3998), 7.45 MiB | 1.40 MiB/sReceiving objects:  61% (2439/3998), 7.45 MiB | 1.40 MiB/sReceiving objects:  75% (2999/3998), 7.45 MiB | 1.40 MiB/sReceiving objects:  85% (3399/3998), 7.45 MiB | 1.40 MiB/sReceiving objects:  87% (3490/3998), 7.45 MiB | 1.40 MiB/sReceiving objects:  91% (3639/3998), 7.45 MiB | 1.40 MiB/sReceiving objects:  98% (3919/3998), 7.45 MiB | 1.40 MiB/s\r\n",
      "Receiving objects: 100% (3998/3998), 8.29 MiB | 1.02 MiB/s, done.\r\n",
      "Resolving deltas: 100% (2532/2532), done.\r\n",
      "Processing ./fastText\r\n",
      "  Installing build dependencies ... \u001B[?25ldone\r\n",
      "\u001B[?25h  Getting requirements to build wheel ... \u001B[?25ldone\r\n",
      "\u001B[?25h  Preparing metadata (pyproject.toml) ... \u001B[?25ldone\r\n",
      "\u001B[?25hCollecting pybind11>=2.2 (from fasttext==0.9.2)\r\n",
      "  Obtaining dependency information for pybind11>=2.2 from https://files.pythonhosted.org/packages/06/55/9f73c32dda93fa4f539fafa268f9504e83c489f460c380371d94296126cd/pybind11-2.11.1-py3-none-any.whl.metadata\r\n",
      "  Using cached pybind11-2.11.1-py3-none-any.whl.metadata (9.5 kB)\r\n",
      "Requirement already satisfied: setuptools>=0.7.0 in /home/malleo/anaconda3/lib/python3.11/site-packages (from fasttext==0.9.2) (68.0.0)\r\n",
      "Requirement already satisfied: numpy in /home/malleo/anaconda3/lib/python3.11/site-packages (from fasttext==0.9.2) (1.24.3)\r\n",
      "Using cached pybind11-2.11.1-py3-none-any.whl (227 kB)\r\n",
      "Building wheels for collected packages: fasttext\r\n",
      "  Building wheel for fasttext (pyproject.toml) ... \u001B[?25ldone\r\n",
      "\u001B[?25h  Created wheel for fasttext: filename=fasttext-0.9.2-cp311-cp311-linux_x86_64.whl size=320107 sha256=d21f3d967e6444a28660170e9b5bbb91c295bf438169b8351d62f12d73ff381f\r\n",
      "  Stored in directory: /tmp/pip-ephem-wheel-cache-eiipweox/wheels/69/63/ad/991e7f09ae82358fc2e352e32a50a986e68f6ab3c1f0942eee\r\n",
      "Successfully built fasttext\r\n",
      "Installing collected packages: pybind11, fasttext\r\n",
      "Successfully installed fasttext-0.9.2 pybind11-2.11.1\r\n"
     ]
    }
   ],
   "source": [
    "# чтобы установить fasstext, можно склонировать его с репозитория\n",
    "\n",
    "! git clone https://github.com/facebookresearch/fastText.git\n",
    "! pip install fastText/."
   ]
  },
  {
   "cell_type": "code",
   "execution_count": 61,
   "metadata": {
    "id": "u0rt2mhjX-tL",
    "ExecuteTime": {
     "end_time": "2024-03-17T07:09:17.734280Z",
     "start_time": "2024-03-17T07:09:17.453195Z"
    }
   },
   "outputs": [
    {
     "name": "stderr",
     "output_type": "stream",
     "text": [
      "Read 0M words\n",
      "Number of words:  11321\n",
      "Number of labels: 2\n",
      "Progress: 100.0% words/sec/thread:   39258 lr:  0.000000 avg.loss:  0.557720 ETA:   0h 0m 0s\n"
     ]
    }
   ],
   "source": [
    "import fasttext\n",
    "\n",
    "classifier = fasttext.train_supervised('data.train.txt')\n",
    "result = classifier.test('test.txt')"
   ]
  },
  {
   "cell_type": "code",
   "execution_count": 62,
   "metadata": {
    "colab": {
     "base_uri": "https://localhost:8080/"
    },
    "id": "OgAgctOHE80T",
    "outputId": "b86135fb-6501-4c7c-85ef-8643f8cce134",
    "ExecuteTime": {
     "end_time": "2024-03-17T07:09:27.174231Z",
     "start_time": "2024-03-17T07:09:27.166536Z"
    }
   },
   "outputs": [
    {
     "data": {
      "text/plain": "['BOW',\n 'EOS',\n 'EOW',\n 'FastText',\n '__builtins__',\n '__cached__',\n '__doc__',\n '__file__',\n '__loader__',\n '__name__',\n '__package__',\n '__path__',\n '__spec__',\n 'absolute_import',\n 'cbow',\n 'division',\n 'load_model',\n 'print_function',\n 'skipgram',\n 'supervised',\n 'tokenize',\n 'train_supervised',\n 'train_unsupervised',\n 'unicode_literals']"
     },
     "execution_count": 62,
     "metadata": {},
     "output_type": "execute_result"
    }
   ],
   "source": [
    "dir(fasttext)"
   ]
  },
  {
   "cell_type": "code",
   "execution_count": 63,
   "metadata": {
    "colab": {
     "base_uri": "https://localhost:8080/"
    },
    "id": "SGVM6heFE4qR",
    "outputId": "70ff4933-6d3e-43d0-a79c-30dcc67b149c",
    "ExecuteTime": {
     "end_time": "2024-03-17T07:09:30.997243Z",
     "start_time": "2024-03-17T07:09:30.990247Z"
    }
   },
   "outputs": [
    {
     "data": {
      "text/plain": "(1885, 0.7480106100795756, 0.7480106100795756)"
     },
     "execution_count": 63,
     "metadata": {},
     "output_type": "execute_result"
    }
   ],
   "source": [
    "result"
   ]
  },
  {
   "cell_type": "markdown",
   "metadata": {
    "id": "LlJunwu1kEOh"
   },
   "source": [
    "Смотрим на метрики качества (precision и recall) полученной модели:"
   ]
  },
  {
   "cell_type": "code",
   "execution_count": 64,
   "metadata": {
    "colab": {
     "base_uri": "https://localhost:8080/"
    },
    "id": "x7sH3y6lkChx",
    "outputId": "26d0afcc-d0af-4076-c37d-3bdcc011e377",
    "ExecuteTime": {
     "end_time": "2024-03-17T07:09:34.186369Z",
     "start_time": "2024-03-17T07:09:34.180373Z"
    }
   },
   "outputs": [
    {
     "name": "stdout",
     "output_type": "stream",
     "text": [
      "P@1: 0.7480106100795756\n",
      "R@1: 0.7480106100795756\n",
      "Number of examples: 1885\n"
     ]
    }
   ],
   "source": [
    "print('P@1:', result[1])\n",
    "print('R@1:', result[2])\n",
    "print('Number of examples:', result[0])"
   ]
  },
  {
   "cell_type": "markdown",
   "metadata": {
    "id": "exAhS7BIBKGA"
   },
   "source": [
    "## Задание\n",
    "\n",
    "1. Мы будем работать с (частичными) данными lenta.ru отсюда: https://www.kaggle.com/yutkin/corpus-of-russian-news-articles-from-lenta/\n",
    "2. Проведите препроцессинг текста. Разбейте данные на *train* и *test* для задачи классификации (в качестве метки класса будем использовать поле `topic`). В качестве данных для классификации возьмите\n",
    "    - только заголовки (`title`)\n",
    "    - только тексты новости (`text`)\n",
    "    - и то, и другое\n",
    "3. Обучите свою модель w2v (или возьмите любую подходящую предобученную модель) для классификации текстов по темам. Реализуйте функцию для вычисления вектора текста / заголовка / текста+заголовка как среднего вектора входящих в него слов. Сравните качество для разных данных из п. 2.\n",
    "\n"
   ]
  },
  {
   "cell_type": "code",
   "execution_count": 25,
   "metadata": {
    "colab": {
     "base_uri": "https://localhost:8080/"
    },
    "id": "bLJXu8KKX-tM",
    "outputId": "ebaef195-d5f2-4ff2-ed19-86ebecce9021",
    "ExecuteTime": {
     "end_time": "2024-03-18T17:11:44.877471Z",
     "start_time": "2024-03-18T17:10:41.397648Z"
    }
   },
   "outputs": [
    {
     "name": "stdout",
     "output_type": "stream",
     "text": [
      "--2024-03-18 20:10:41--  https://www.dropbox.com/s/tce5a8gn68rfw8v/lenta-ru-news-part.csv?dl=0\r\n",
      "Resolving www.dropbox.com (www.dropbox.com)... 162.125.70.18, 2620:100:6026:18::a27d:4612\r\n",
      "Connecting to www.dropbox.com (www.dropbox.com)|162.125.70.18|:443... connected.\r\n",
      "HTTP request sent, awaiting response... 302 Found\r\n",
      "Location: /s/raw/tce5a8gn68rfw8v/lenta-ru-news-part.csv [following]\r\n",
      "--2024-03-18 20:10:42--  https://www.dropbox.com/s/raw/tce5a8gn68rfw8v/lenta-ru-news-part.csv\r\n",
      "Reusing existing connection to www.dropbox.com:443.\r\n",
      "HTTP request sent, awaiting response... 302 Found\r\n",
      "Location: https://uc8404ec93c0a7a14b01804716c5.dl.dropboxusercontent.com/cd/0/inline/CPWwUC-RF8p51GpJ1ueipbJTY4kg-AUN0EzMZuBgfKPVhSFWUflkqmG1T_LV0-cWDLm1mNkRBLTP3U_sZ7yqf4w5xhQM0yD3tB-wWSKc_nXbsrR2130JotcXPgYq8l8q1YHW94USb0b_bTjmLTQG48Pc/file# [following]\r\n",
      "--2024-03-18 20:10:42--  https://uc8404ec93c0a7a14b01804716c5.dl.dropboxusercontent.com/cd/0/inline/CPWwUC-RF8p51GpJ1ueipbJTY4kg-AUN0EzMZuBgfKPVhSFWUflkqmG1T_LV0-cWDLm1mNkRBLTP3U_sZ7yqf4w5xhQM0yD3tB-wWSKc_nXbsrR2130JotcXPgYq8l8q1YHW94USb0b_bTjmLTQG48Pc/file\r\n",
      "Resolving uc8404ec93c0a7a14b01804716c5.dl.dropboxusercontent.com (uc8404ec93c0a7a14b01804716c5.dl.dropboxusercontent.com)... 162.125.71.15, 2620:100:6026:15::a27d:460f\r\n",
      "Connecting to uc8404ec93c0a7a14b01804716c5.dl.dropboxusercontent.com (uc8404ec93c0a7a14b01804716c5.dl.dropboxusercontent.com)|162.125.71.15|:443... connected.\r\n",
      "HTTP request sent, awaiting response... 200 OK\r\n",
      "Length: 665265066 (634M) [text/plain]\r\n",
      "Saving to: ‘lenta-ru-news-part.csv’\r\n",
      "\r\n",
      "lenta-ru-news-part. 100%[===================>] 634.45M  9.95MB/s    in 61s     \r\n",
      "\r\n",
      "2024-03-18 20:11:44 (10.4 MB/s) - ‘lenta-ru-news-part.csv’ saved [665265066/665265066]\r\n",
      "\r\n"
     ]
    }
   ],
   "source": [
    "! wget -O lenta-ru-news-part.csv https://www.dropbox.com/s/tce5a8gn68rfw8v/lenta-ru-news-part.csv?dl=0"
   ]
  },
  {
   "cell_type": "code",
   "execution_count": 23,
   "metadata": {
    "id": "sPB2kZR60H6V",
    "ExecuteTime": {
     "end_time": "2024-03-18T17:07:38.927911Z",
     "start_time": "2024-03-18T17:07:38.606998Z"
    }
   },
   "outputs": [],
   "source": [
    "import pandas as pd"
   ]
  },
  {
   "cell_type": "code",
   "execution_count": 24,
   "metadata": {
    "colab": {
     "base_uri": "https://localhost:8080/",
     "height": 206
    },
    "id": "N5biB_zbX-tP",
    "outputId": "42d45fb1-fa46-4d41-f0eb-c6b3dfa17544",
    "ExecuteTime": {
     "end_time": "2024-03-18T17:07:40.653705Z",
     "start_time": "2024-03-18T17:07:40.030233Z"
    }
   },
   "outputs": [
    {
     "ename": "UnicodeDecodeError",
     "evalue": "'utf-8' codec can't decode byte 0xd1 in position 0: unexpected end of data",
     "output_type": "error",
     "traceback": [
      "\u001B[0;31m---------------------------------------------------------------------------\u001B[0m",
      "\u001B[0;31mUnicodeDecodeError\u001B[0m                        Traceback (most recent call last)",
      "Cell \u001B[0;32mIn[24], line 1\u001B[0m\n\u001B[0;32m----> 1\u001B[0m lenta \u001B[38;5;241m=\u001B[39m pd\u001B[38;5;241m.\u001B[39mread_csv(\u001B[38;5;124m'\u001B[39m\u001B[38;5;124mlenta-ru-news-part.csv\u001B[39m\u001B[38;5;124m'\u001B[39m, usecols\u001B[38;5;241m=\u001B[39m[\u001B[38;5;124m'\u001B[39m\u001B[38;5;124mtitle\u001B[39m\u001B[38;5;124m'\u001B[39m, \u001B[38;5;124m'\u001B[39m\u001B[38;5;124mtext\u001B[39m\u001B[38;5;124m'\u001B[39m, \u001B[38;5;124m'\u001B[39m\u001B[38;5;124mtopic\u001B[39m\u001B[38;5;124m'\u001B[39m])\n\u001B[1;32m      2\u001B[0m lenta\u001B[38;5;241m.\u001B[39mhead()\n",
      "File \u001B[0;32m~/anaconda3/lib/python3.11/site-packages/pandas/io/parsers/readers.py:912\u001B[0m, in \u001B[0;36mread_csv\u001B[0;34m(filepath_or_buffer, sep, delimiter, header, names, index_col, usecols, dtype, engine, converters, true_values, false_values, skipinitialspace, skiprows, skipfooter, nrows, na_values, keep_default_na, na_filter, verbose, skip_blank_lines, parse_dates, infer_datetime_format, keep_date_col, date_parser, date_format, dayfirst, cache_dates, iterator, chunksize, compression, thousands, decimal, lineterminator, quotechar, quoting, doublequote, escapechar, comment, encoding, encoding_errors, dialect, on_bad_lines, delim_whitespace, low_memory, memory_map, float_precision, storage_options, dtype_backend)\u001B[0m\n\u001B[1;32m    899\u001B[0m kwds_defaults \u001B[38;5;241m=\u001B[39m _refine_defaults_read(\n\u001B[1;32m    900\u001B[0m     dialect,\n\u001B[1;32m    901\u001B[0m     delimiter,\n\u001B[0;32m   (...)\u001B[0m\n\u001B[1;32m    908\u001B[0m     dtype_backend\u001B[38;5;241m=\u001B[39mdtype_backend,\n\u001B[1;32m    909\u001B[0m )\n\u001B[1;32m    910\u001B[0m kwds\u001B[38;5;241m.\u001B[39mupdate(kwds_defaults)\n\u001B[0;32m--> 912\u001B[0m \u001B[38;5;28;01mreturn\u001B[39;00m _read(filepath_or_buffer, kwds)\n",
      "File \u001B[0;32m~/anaconda3/lib/python3.11/site-packages/pandas/io/parsers/readers.py:583\u001B[0m, in \u001B[0;36m_read\u001B[0;34m(filepath_or_buffer, kwds)\u001B[0m\n\u001B[1;32m    580\u001B[0m     \u001B[38;5;28;01mreturn\u001B[39;00m parser\n\u001B[1;32m    582\u001B[0m \u001B[38;5;28;01mwith\u001B[39;00m parser:\n\u001B[0;32m--> 583\u001B[0m     \u001B[38;5;28;01mreturn\u001B[39;00m parser\u001B[38;5;241m.\u001B[39mread(nrows)\n",
      "File \u001B[0;32m~/anaconda3/lib/python3.11/site-packages/pandas/io/parsers/readers.py:1704\u001B[0m, in \u001B[0;36mTextFileReader.read\u001B[0;34m(self, nrows)\u001B[0m\n\u001B[1;32m   1697\u001B[0m nrows \u001B[38;5;241m=\u001B[39m validate_integer(\u001B[38;5;124m\"\u001B[39m\u001B[38;5;124mnrows\u001B[39m\u001B[38;5;124m\"\u001B[39m, nrows)\n\u001B[1;32m   1698\u001B[0m \u001B[38;5;28;01mtry\u001B[39;00m:\n\u001B[1;32m   1699\u001B[0m     \u001B[38;5;66;03m# error: \"ParserBase\" has no attribute \"read\"\u001B[39;00m\n\u001B[1;32m   1700\u001B[0m     (\n\u001B[1;32m   1701\u001B[0m         index,\n\u001B[1;32m   1702\u001B[0m         columns,\n\u001B[1;32m   1703\u001B[0m         col_dict,\n\u001B[0;32m-> 1704\u001B[0m     ) \u001B[38;5;241m=\u001B[39m \u001B[38;5;28mself\u001B[39m\u001B[38;5;241m.\u001B[39m_engine\u001B[38;5;241m.\u001B[39mread(  \u001B[38;5;66;03m# type: ignore[attr-defined]\u001B[39;00m\n\u001B[1;32m   1705\u001B[0m         nrows\n\u001B[1;32m   1706\u001B[0m     )\n\u001B[1;32m   1707\u001B[0m \u001B[38;5;28;01mexcept\u001B[39;00m \u001B[38;5;167;01mException\u001B[39;00m:\n\u001B[1;32m   1708\u001B[0m     \u001B[38;5;28mself\u001B[39m\u001B[38;5;241m.\u001B[39mclose()\n",
      "File \u001B[0;32m~/anaconda3/lib/python3.11/site-packages/pandas/io/parsers/c_parser_wrapper.py:234\u001B[0m, in \u001B[0;36mCParserWrapper.read\u001B[0;34m(self, nrows)\u001B[0m\n\u001B[1;32m    232\u001B[0m \u001B[38;5;28;01mtry\u001B[39;00m:\n\u001B[1;32m    233\u001B[0m     \u001B[38;5;28;01mif\u001B[39;00m \u001B[38;5;28mself\u001B[39m\u001B[38;5;241m.\u001B[39mlow_memory:\n\u001B[0;32m--> 234\u001B[0m         chunks \u001B[38;5;241m=\u001B[39m \u001B[38;5;28mself\u001B[39m\u001B[38;5;241m.\u001B[39m_reader\u001B[38;5;241m.\u001B[39mread_low_memory(nrows)\n\u001B[1;32m    235\u001B[0m         \u001B[38;5;66;03m# destructive to chunks\u001B[39;00m\n\u001B[1;32m    236\u001B[0m         data \u001B[38;5;241m=\u001B[39m _concatenate_chunks(chunks)\n",
      "File \u001B[0;32m~/anaconda3/lib/python3.11/site-packages/pandas/_libs/parsers.pyx:814\u001B[0m, in \u001B[0;36mpandas._libs.parsers.TextReader.read_low_memory\u001B[0;34m()\u001B[0m\n",
      "File \u001B[0;32m~/anaconda3/lib/python3.11/site-packages/pandas/_libs/parsers.pyx:875\u001B[0m, in \u001B[0;36mpandas._libs.parsers.TextReader._read_rows\u001B[0;34m()\u001B[0m\n",
      "File \u001B[0;32m~/anaconda3/lib/python3.11/site-packages/pandas/_libs/parsers.pyx:850\u001B[0m, in \u001B[0;36mpandas._libs.parsers.TextReader._tokenize_rows\u001B[0;34m()\u001B[0m\n",
      "File \u001B[0;32m~/anaconda3/lib/python3.11/site-packages/pandas/_libs/parsers.pyx:861\u001B[0m, in \u001B[0;36mpandas._libs.parsers.TextReader._check_tokenize_status\u001B[0;34m()\u001B[0m\n",
      "File \u001B[0;32m~/anaconda3/lib/python3.11/site-packages/pandas/_libs/parsers.pyx:2021\u001B[0m, in \u001B[0;36mpandas._libs.parsers.raise_parser_error\u001B[0;34m()\u001B[0m\n",
      "\u001B[0;31mUnicodeDecodeError\u001B[0m: 'utf-8' codec can't decode byte 0xd1 in position 0: unexpected end of data"
     ]
    }
   ],
   "source": [
    "lenta = pd.read_csv('lenta-ru-news-part.csv', usecols=['title', 'text', 'topic'])\n",
    "lenta.head()"
   ]
  },
  {
   "cell_type": "code",
   "execution_count": 68,
   "metadata": {
    "colab": {
     "base_uri": "https://localhost:8080/"
    },
    "id": "vbnulE7-X-tR",
    "outputId": "ada01c96-4ef6-417c-ec15-f0e15cd34509",
    "ExecuteTime": {
     "end_time": "2024-03-17T07:21:03.609057Z",
     "start_time": "2024-03-17T07:21:03.602475Z"
    }
   },
   "outputs": [
    {
     "data": {
      "text/plain": "(258273, 3)"
     },
     "execution_count": 68,
     "metadata": {},
     "output_type": "execute_result"
    }
   ],
   "source": [
    "lenta.shape"
   ]
  },
  {
   "cell_type": "code",
   "execution_count": 69,
   "metadata": {
    "colab": {
     "base_uri": "https://localhost:8080/"
    },
    "id": "S7s5qJEiX-tS",
    "outputId": "19b746a1-b2c6-4901-d936-6313cec9742f",
    "ExecuteTime": {
     "end_time": "2024-03-17T07:21:06.017031Z",
     "start_time": "2024-03-17T07:21:05.977922Z"
    }
   },
   "outputs": [
    {
     "data": {
      "text/plain": "topic\nЭкономика          79528\nСпорт              64413\nКультура           53797\nНаука и техника    53136\nБизнес              7399\nName: count, dtype: int64"
     },
     "execution_count": 69,
     "metadata": {},
     "output_type": "execute_result"
    }
   ],
   "source": [
    "lenta.topic.value_counts() # наш таргет"
   ]
  },
  {
   "cell_type": "code",
   "execution_count": null,
   "metadata": {
    "id": "dvCVBhw00TAG"
   },
   "outputs": [],
   "source": []
  }
 ],
 "metadata": {
  "colab": {
   "provenance": []
  },
  "kernelspec": {
   "display_name": "Python 3 (ipykernel)",
   "language": "python",
   "name": "python3"
  },
  "language_info": {
   "codemirror_mode": {
    "name": "ipython",
    "version": 3
   },
   "file_extension": ".py",
   "mimetype": "text/x-python",
   "name": "python",
   "nbconvert_exporter": "python",
   "pygments_lexer": "ipython3",
   "version": "3.8.9"
  },
  "widgets": {
   "application/vnd.jupyter.widget-state+json": {
    "13207432a81944e490f5ca0e7a8da1b0": {
     "model_module": "@jupyter-widgets/controls",
     "model_module_version": "1.5.0",
     "model_name": "DescriptionStyleModel",
     "state": {
      "_model_module": "@jupyter-widgets/controls",
      "_model_module_version": "1.5.0",
      "_model_name": "DescriptionStyleModel",
      "_view_count": null,
      "_view_module": "@jupyter-widgets/base",
      "_view_module_version": "1.2.0",
      "_view_name": "StyleView",
      "description_width": ""
     }
    },
    "383cecd7ba964cc1a5757033bedc1b97": {
     "model_module": "@jupyter-widgets/base",
     "model_module_version": "1.2.0",
     "model_name": "LayoutModel",
     "state": {
      "_model_module": "@jupyter-widgets/base",
      "_model_module_version": "1.2.0",
      "_model_name": "LayoutModel",
      "_view_count": null,
      "_view_module": "@jupyter-widgets/base",
      "_view_module_version": "1.2.0",
      "_view_name": "LayoutView",
      "align_content": null,
      "align_items": null,
      "align_self": null,
      "border": null,
      "bottom": null,
      "display": null,
      "flex": null,
      "flex_flow": null,
      "grid_area": null,
      "grid_auto_columns": null,
      "grid_auto_flow": null,
      "grid_auto_rows": null,
      "grid_column": null,
      "grid_gap": null,
      "grid_row": null,
      "grid_template_areas": null,
      "grid_template_columns": null,
      "grid_template_rows": null,
      "height": null,
      "justify_content": null,
      "justify_items": null,
      "left": null,
      "margin": null,
      "max_height": null,
      "max_width": null,
      "min_height": null,
      "min_width": null,
      "object_fit": null,
      "object_position": null,
      "order": null,
      "overflow": null,
      "overflow_x": null,
      "overflow_y": null,
      "padding": null,
      "right": null,
      "top": null,
      "visibility": null,
      "width": null
     }
    },
    "40935ab6c6c54c5ca1031800d823be8a": {
     "model_module": "@jupyter-widgets/controls",
     "model_module_version": "1.5.0",
     "model_name": "FloatProgressModel",
     "state": {
      "_dom_classes": [],
      "_model_module": "@jupyter-widgets/controls",
      "_model_module_version": "1.5.0",
      "_model_name": "FloatProgressModel",
      "_view_count": null,
      "_view_module": "@jupyter-widgets/controls",
      "_view_module_version": "1.5.0",
      "_view_name": "ProgressView",
      "bar_style": "success",
      "description": "",
      "description_tooltip": null,
      "layout": "IPY_MODEL_4ea37de5a410432bb4a889ce4abbe4e6",
      "max": 5712,
      "min": 0,
      "orientation": "horizontal",
      "style": "IPY_MODEL_7debc25779d24448b55c5f8d6f4bd297",
      "value": 5712
     }
    },
    "4592e779359a42f9bd19ee3dadd0d35f": {
     "model_module": "@jupyter-widgets/controls",
     "model_module_version": "1.5.0",
     "model_name": "HTMLModel",
     "state": {
      "_dom_classes": [],
      "_model_module": "@jupyter-widgets/controls",
      "_model_module_version": "1.5.0",
      "_model_name": "HTMLModel",
      "_view_count": null,
      "_view_module": "@jupyter-widgets/controls",
      "_view_module_version": "1.5.0",
      "_view_name": "HTMLView",
      "description": "",
      "description_tooltip": null,
      "layout": "IPY_MODEL_c981ca97a39846c8be297dabb20b8664",
      "placeholder": "​",
      "style": "IPY_MODEL_13207432a81944e490f5ca0e7a8da1b0",
      "value": "100%"
     }
    },
    "49b95e258b984aebaa66751df40496f9": {
     "model_module": "@jupyter-widgets/controls",
     "model_module_version": "1.5.0",
     "model_name": "DescriptionStyleModel",
     "state": {
      "_model_module": "@jupyter-widgets/controls",
      "_model_module_version": "1.5.0",
      "_model_name": "DescriptionStyleModel",
      "_view_count": null,
      "_view_module": "@jupyter-widgets/base",
      "_view_module_version": "1.2.0",
      "_view_name": "StyleView",
      "description_width": ""
     }
    },
    "4ea37de5a410432bb4a889ce4abbe4e6": {
     "model_module": "@jupyter-widgets/base",
     "model_module_version": "1.2.0",
     "model_name": "LayoutModel",
     "state": {
      "_model_module": "@jupyter-widgets/base",
      "_model_module_version": "1.2.0",
      "_model_name": "LayoutModel",
      "_view_count": null,
      "_view_module": "@jupyter-widgets/base",
      "_view_module_version": "1.2.0",
      "_view_name": "LayoutView",
      "align_content": null,
      "align_items": null,
      "align_self": null,
      "border": null,
      "bottom": null,
      "display": null,
      "flex": null,
      "flex_flow": null,
      "grid_area": null,
      "grid_auto_columns": null,
      "grid_auto_flow": null,
      "grid_auto_rows": null,
      "grid_column": null,
      "grid_gap": null,
      "grid_row": null,
      "grid_template_areas": null,
      "grid_template_columns": null,
      "grid_template_rows": null,
      "height": null,
      "justify_content": null,
      "justify_items": null,
      "left": null,
      "margin": null,
      "max_height": null,
      "max_width": null,
      "min_height": null,
      "min_width": null,
      "object_fit": null,
      "object_position": null,
      "order": null,
      "overflow": null,
      "overflow_x": null,
      "overflow_y": null,
      "padding": null,
      "right": null,
      "top": null,
      "visibility": null,
      "width": null
     }
    },
    "53b79123251d40b9b26eca91bf178be6": {
     "model_module": "@jupyter-widgets/base",
     "model_module_version": "1.2.0",
     "model_name": "LayoutModel",
     "state": {
      "_model_module": "@jupyter-widgets/base",
      "_model_module_version": "1.2.0",
      "_model_name": "LayoutModel",
      "_view_count": null,
      "_view_module": "@jupyter-widgets/base",
      "_view_module_version": "1.2.0",
      "_view_name": "LayoutView",
      "align_content": null,
      "align_items": null,
      "align_self": null,
      "border": null,
      "bottom": null,
      "display": null,
      "flex": null,
      "flex_flow": null,
      "grid_area": null,
      "grid_auto_columns": null,
      "grid_auto_flow": null,
      "grid_auto_rows": null,
      "grid_column": null,
      "grid_gap": null,
      "grid_row": null,
      "grid_template_areas": null,
      "grid_template_columns": null,
      "grid_template_rows": null,
      "height": null,
      "justify_content": null,
      "justify_items": null,
      "left": null,
      "margin": null,
      "max_height": null,
      "max_width": null,
      "min_height": null,
      "min_width": null,
      "object_fit": null,
      "object_position": null,
      "order": null,
      "overflow": null,
      "overflow_x": null,
      "overflow_y": null,
      "padding": null,
      "right": null,
      "top": null,
      "visibility": null,
      "width": null
     }
    },
    "7bf1f24c246e4b2aa93d02f69cc904bf": {
     "model_module": "@jupyter-widgets/controls",
     "model_module_version": "1.5.0",
     "model_name": "HBoxModel",
     "state": {
      "_dom_classes": [],
      "_model_module": "@jupyter-widgets/controls",
      "_model_module_version": "1.5.0",
      "_model_name": "HBoxModel",
      "_view_count": null,
      "_view_module": "@jupyter-widgets/controls",
      "_view_module_version": "1.5.0",
      "_view_name": "HBoxView",
      "box_style": "",
      "children": [
       "IPY_MODEL_4592e779359a42f9bd19ee3dadd0d35f",
       "IPY_MODEL_40935ab6c6c54c5ca1031800d823be8a",
       "IPY_MODEL_b88c35aac4ca448b97e8c94ce9f59143"
      ],
      "layout": "IPY_MODEL_53b79123251d40b9b26eca91bf178be6"
     }
    },
    "7debc25779d24448b55c5f8d6f4bd297": {
     "model_module": "@jupyter-widgets/controls",
     "model_module_version": "1.5.0",
     "model_name": "ProgressStyleModel",
     "state": {
      "_model_module": "@jupyter-widgets/controls",
      "_model_module_version": "1.5.0",
      "_model_name": "ProgressStyleModel",
      "_view_count": null,
      "_view_module": "@jupyter-widgets/base",
      "_view_module_version": "1.2.0",
      "_view_name": "StyleView",
      "bar_color": null,
      "description_width": ""
     }
    },
    "b88c35aac4ca448b97e8c94ce9f59143": {
     "model_module": "@jupyter-widgets/controls",
     "model_module_version": "1.5.0",
     "model_name": "HTMLModel",
     "state": {
      "_dom_classes": [],
      "_model_module": "@jupyter-widgets/controls",
      "_model_module_version": "1.5.0",
      "_model_name": "HTMLModel",
      "_view_count": null,
      "_view_module": "@jupyter-widgets/controls",
      "_view_module_version": "1.5.0",
      "_view_name": "HTMLView",
      "description": "",
      "description_tooltip": null,
      "layout": "IPY_MODEL_383cecd7ba964cc1a5757033bedc1b97",
      "placeholder": "​",
      "style": "IPY_MODEL_49b95e258b984aebaa66751df40496f9",
      "value": " 5712/5712 [00:17&lt;00:00, 459.98it/s]"
     }
    },
    "c981ca97a39846c8be297dabb20b8664": {
     "model_module": "@jupyter-widgets/base",
     "model_module_version": "1.2.0",
     "model_name": "LayoutModel",
     "state": {
      "_model_module": "@jupyter-widgets/base",
      "_model_module_version": "1.2.0",
      "_model_name": "LayoutModel",
      "_view_count": null,
      "_view_module": "@jupyter-widgets/base",
      "_view_module_version": "1.2.0",
      "_view_name": "LayoutView",
      "align_content": null,
      "align_items": null,
      "align_self": null,
      "border": null,
      "bottom": null,
      "display": null,
      "flex": null,
      "flex_flow": null,
      "grid_area": null,
      "grid_auto_columns": null,
      "grid_auto_flow": null,
      "grid_auto_rows": null,
      "grid_column": null,
      "grid_gap": null,
      "grid_row": null,
      "grid_template_areas": null,
      "grid_template_columns": null,
      "grid_template_rows": null,
      "height": null,
      "justify_content": null,
      "justify_items": null,
      "left": null,
      "margin": null,
      "max_height": null,
      "max_width": null,
      "min_height": null,
      "min_width": null,
      "object_fit": null,
      "object_position": null,
      "order": null,
      "overflow": null,
      "overflow_x": null,
      "overflow_y": null,
      "padding": null,
      "right": null,
      "top": null,
      "visibility": null,
      "width": null
     }
    }
   }
  }
 },
 "nbformat": 4,
 "nbformat_minor": 1
}
